{
  "cells": [
    {
      "cell_type": "markdown",
      "metadata": {
        "id": "view-in-github",
        "colab_type": "text"
      },
      "source": [
        "<a href=\"https://colab.research.google.com/github/emirselver/Python-Egitimi/blob/main/tum_konular.ipynb\" target=\"_parent\"><img src=\"https://colab.research.google.com/assets/colab-badge.svg\" alt=\"Open In Colab\"/></a>"
      ]
    },
    {
      "cell_type": "markdown",
      "id": "aef1f502",
      "metadata": {
        "id": "aef1f502"
      },
      "source": [
        "# <font color=orange>**Python Programlama**</font>"
      ]
    },
    {
      "cell_type": "markdown",
      "id": "5db907dc",
      "metadata": {
        "id": "5db907dc"
      },
      "source": [
        "## **Sayilar ve Stringlere Giris**"
      ]
    },
    {
      "cell_type": "code",
      "execution_count": null,
      "id": "dce8f82d",
      "metadata": {
        "scrolled": true,
        "id": "dce8f82d",
        "outputId": "c5d3e85d-8bb7-4df3-dacc-bdb9f8b221a7"
      },
      "outputs": [
        {
          "name": "stdout",
          "output_type": "stream",
          "text": [
            "Hello Ai Era\n"
          ]
        }
      ],
      "source": [
        "# print fonksiyonu\n",
        "print('Hello Ai Era')"
      ]
    },
    {
      "cell_type": "code",
      "execution_count": null,
      "id": "7ab1b8b2",
      "metadata": {
        "id": "7ab1b8b2",
        "outputId": "21b2d2ab-a585-4609-d4bd-903ba7a9bd59"
      },
      "outputs": [
        {
          "data": {
            "text/plain": [
              "'ab'"
            ]
          },
          "execution_count": 2,
          "metadata": {},
          "output_type": "execute_result"
        }
      ],
      "source": [
        "'a' 'b'"
      ]
    },
    {
      "cell_type": "code",
      "execution_count": null,
      "id": "ddecc453",
      "metadata": {
        "id": "ddecc453",
        "outputId": "7f0f5d17-3888-49c0-f1e0-54c33d307a19"
      },
      "outputs": [
        {
          "data": {
            "text/plain": [
              "'ab'"
            ]
          },
          "execution_count": 3,
          "metadata": {},
          "output_type": "execute_result"
        }
      ],
      "source": [
        "'a'+'b'"
      ]
    },
    {
      "cell_type": "code",
      "execution_count": null,
      "id": "cd3181fa",
      "metadata": {
        "id": "cd3181fa",
        "outputId": "33a0ff14-2c68-4fde-8e39-0361c8a82678"
      },
      "outputs": [
        {
          "data": {
            "text/plain": [
              "'aaa'"
            ]
          },
          "execution_count": 4,
          "metadata": {},
          "output_type": "execute_result"
        }
      ],
      "source": [
        "'a'*3"
      ]
    },
    {
      "cell_type": "code",
      "execution_count": null,
      "id": "e86853ec",
      "metadata": {
        "id": "e86853ec",
        "outputId": "a886eaf1-5193-432e-e939-f586317c315a"
      },
      "outputs": [
        {
          "data": {
            "text/plain": [
              "str"
            ]
          },
          "execution_count": 5,
          "metadata": {},
          "output_type": "execute_result"
        }
      ],
      "source": [
        "a = '123'\n",
        "type(a)"
      ]
    },
    {
      "cell_type": "code",
      "execution_count": null,
      "id": "76242a75",
      "metadata": {
        "id": "76242a75",
        "outputId": "4f6c725a-838d-41ec-d1a0-1b5ba143b410"
      },
      "outputs": [
        {
          "data": {
            "text/plain": [
              "'a-b'"
            ]
          },
          "execution_count": 6,
          "metadata": {},
          "output_type": "execute_result"
        }
      ],
      "source": [
        "'a'+'-b'"
      ]
    },
    {
      "cell_type": "code",
      "execution_count": null,
      "id": "7e5a99d8",
      "metadata": {
        "id": "7e5a99d8",
        "outputId": "c4c797ae-0a1e-48e6-9ba8-4a8ad0289b73"
      },
      "outputs": [
        {
          "data": {
            "text/plain": [
              "17"
            ]
          },
          "execution_count": 7,
          "metadata": {},
          "output_type": "execute_result"
        }
      ],
      "source": [
        "#len() Komutu:\n",
        "hmk='heavy_metal_kings'\n",
        "len(hmk)"
      ]
    },
    {
      "cell_type": "code",
      "execution_count": null,
      "id": "c5564d86",
      "metadata": {
        "id": "c5564d86",
        "outputId": "db4f7d78-7abd-4da2-d37a-7ce59e2e8630"
      },
      "outputs": [
        {
          "name": "stdout",
          "output_type": "stream",
          "text": [
            "14 <class 'str'>\n"
          ]
        }
      ],
      "source": [
        "jmt='jedimindtricks'\n",
        "print(len(jmt),type(jmt))"
      ]
    },
    {
      "cell_type": "code",
      "execution_count": null,
      "id": "23735a34",
      "metadata": {
        "id": "23735a34",
        "outputId": "23381d02-7a16-44f0-e46f-e24d46d0ef92"
      },
      "outputs": [
        {
          "data": {
            "text/plain": [
              "True"
            ]
          },
          "execution_count": 9,
          "metadata": {},
          "output_type": "execute_result"
        }
      ],
      "source": [
        "#islower()-isupper() Komutları:\n",
        "\n",
        "jmt.islower()"
      ]
    },
    {
      "cell_type": "code",
      "execution_count": null,
      "id": "aa0f5f3f",
      "metadata": {
        "id": "aa0f5f3f",
        "outputId": "2a35af2e-55ed-4469-8b37-85afd18dbae1"
      },
      "outputs": [
        {
          "data": {
            "text/plain": [
              "False"
            ]
          },
          "execution_count": 10,
          "metadata": {},
          "output_type": "execute_result"
        }
      ],
      "source": [
        "jmt.isupper()"
      ]
    },
    {
      "cell_type": "code",
      "execution_count": null,
      "id": "160486ce",
      "metadata": {
        "id": "160486ce",
        "outputId": "93d1fe30-4026-4cf5-c050-3d1e7918bac1"
      },
      "outputs": [
        {
          "data": {
            "text/plain": [
              "'JEDIMINDTRICKS'"
            ]
          },
          "execution_count": 11,
          "metadata": {},
          "output_type": "execute_result"
        }
      ],
      "source": [
        "#upper()-lower() Komutları:\n",
        "\n",
        "jmt.upper()"
      ]
    },
    {
      "cell_type": "code",
      "execution_count": null,
      "id": "4cdcc161",
      "metadata": {
        "id": "4cdcc161",
        "outputId": "ae302d26-ec17-41a0-f3e7-c2ec92f6fe4a"
      },
      "outputs": [
        {
          "data": {
            "text/plain": [
              "'jedimindtricks'"
            ]
          },
          "execution_count": 12,
          "metadata": {},
          "output_type": "execute_result"
        }
      ],
      "source": [
        "jmt.lower()"
      ]
    },
    {
      "cell_type": "code",
      "execution_count": null,
      "id": "c2bf7b60",
      "metadata": {
        "id": "c2bf7b60",
        "outputId": "2fc27e3d-1eb3-48a9-d712-f5b655ea87a1"
      },
      "outputs": [
        {
          "data": {
            "text/plain": [
              "'python learning'"
            ]
          },
          "execution_count": 13,
          "metadata": {},
          "output_type": "execute_result"
        }
      ],
      "source": [
        "#replace() Komutu:\n",
        "\n",
        "py='python_learning'\n",
        "py.replace('_',' ')  #once değişilecek obje yazilir sonra yeni obje yazilir."
      ]
    },
    {
      "cell_type": "code",
      "execution_count": null,
      "id": "71810ab9",
      "metadata": {
        "id": "71810ab9",
        "outputId": "c1310b2b-7546-41be-9415-412053db7518"
      },
      "outputs": [
        {
          "data": {
            "text/plain": [
              "'jedi_mind_tricks'"
            ]
          },
          "execution_count": 15,
          "metadata": {},
          "output_type": "execute_result"
        }
      ],
      "source": [
        "#strip() Komutu:\n",
        "#bastan ve sondan degisim yapmaya yarar.\n",
        "\n",
        "jmt=' jedi_mind_tricks '\n",
        "jmt.strip()"
      ]
    },
    {
      "cell_type": "code",
      "execution_count": null,
      "id": "2a6e4ff4",
      "metadata": {
        "id": "2a6e4ff4",
        "outputId": "99156c24-c0f0-42ee-9dd3-0cca1d9fbca9"
      },
      "outputs": [
        {
          "data": {
            "text/plain": [
              "'heavy_metal_kings'"
            ]
          },
          "execution_count": 16,
          "metadata": {},
          "output_type": "execute_result"
        }
      ],
      "source": [
        "hmk='*heavy_metal_kings*'\n",
        "hmk.strip('*')"
      ]
    },
    {
      "cell_type": "code",
      "execution_count": null,
      "id": "7a291169",
      "metadata": {
        "id": "7a291169"
      },
      "outputs": [],
      "source": [
        "#Metodlara Genel Bakis:\n",
        "#dir() 'Kullanilabilir Metodlari Gosterir'"
      ]
    },
    {
      "cell_type": "code",
      "execution_count": null,
      "id": "a9667765",
      "metadata": {
        "id": "a9667765",
        "outputId": "4fca170d-4c17-46b8-b160-605b0a6a3f41"
      },
      "outputs": [
        {
          "data": {
            "text/plain": [
              "'Heavy_metal_kings'"
            ]
          },
          "execution_count": 19,
          "metadata": {},
          "output_type": "execute_result"
        }
      ],
      "source": [
        "#capitalize() Komutu\n",
        "#Sadece ilk harfi buyuk yazmaya yarar.\n",
        "hmk='heavy_metal_kings'\n",
        "hmk.capitalize()"
      ]
    },
    {
      "cell_type": "code",
      "execution_count": null,
      "id": "41484684",
      "metadata": {
        "id": "41484684",
        "outputId": "50273742-1122-4151-e7c8-2f32d36ca20a"
      },
      "outputs": [
        {
          "data": {
            "text/plain": [
              "'Heavy_Metal_Kings'"
            ]
          },
          "execution_count": 20,
          "metadata": {},
          "output_type": "execute_result"
        }
      ],
      "source": [
        "#title() Komutu:\n",
        "#her objenin ilk harfini buyuk yapar.\n",
        "\n",
        "hmk.title()"
      ]
    },
    {
      "cell_type": "markdown",
      "id": "49acb02a",
      "metadata": {
        "id": "49acb02a"
      },
      "source": [
        "### Substringler"
      ]
    },
    {
      "cell_type": "code",
      "execution_count": null,
      "id": "ac32f318",
      "metadata": {
        "id": "ac32f318",
        "outputId": "c914a74a-3394-4825-8e82-212179acd8a1"
      },
      "outputs": [
        {
          "data": {
            "text/plain": [
              "'h'"
            ]
          },
          "execution_count": 21,
          "metadata": {},
          "output_type": "execute_result"
        }
      ],
      "source": [
        "hmk='heavy_metal_kings'\n",
        "hmk[0]"
      ]
    },
    {
      "cell_type": "code",
      "execution_count": null,
      "id": "89003ae4",
      "metadata": {
        "id": "89003ae4",
        "outputId": "0af353c3-1e1d-4391-e9ee-efecf0d438a6"
      },
      "outputs": [
        {
          "data": {
            "text/plain": [
              "'s'"
            ]
          },
          "execution_count": 22,
          "metadata": {},
          "output_type": "execute_result"
        }
      ],
      "source": [
        "hmk[-1] #sondaki index."
      ]
    },
    {
      "cell_type": "code",
      "execution_count": null,
      "id": "64ac8316",
      "metadata": {
        "id": "64ac8316",
        "outputId": "333d2ed7-d6ae-4ac1-ff74-c0b3019c5759"
      },
      "outputs": [
        {
          "data": {
            "text/plain": [
              "'heavy'"
            ]
          },
          "execution_count": 23,
          "metadata": {},
          "output_type": "execute_result"
        }
      ],
      "source": [
        "hmk[:5] #ikinci yazilan index'e kadar yazar ve dahil etmez."
      ]
    },
    {
      "cell_type": "code",
      "execution_count": null,
      "id": "4ac77ae4",
      "metadata": {
        "id": "4ac77ae4",
        "outputId": "f0128fd6-7198-4ca2-bc43-8eeafd609d71"
      },
      "outputs": [
        {
          "data": {
            "text/plain": [
              "'heavy_metal_king'"
            ]
          },
          "execution_count": 24,
          "metadata": {},
          "output_type": "execute_result"
        }
      ],
      "source": [
        "hmk[:-1]"
      ]
    },
    {
      "cell_type": "markdown",
      "id": "ca23d2be",
      "metadata": {
        "id": "ca23d2be"
      },
      "source": [
        "### Degiskenler"
      ]
    },
    {
      "cell_type": "code",
      "execution_count": null,
      "id": "712e57a8",
      "metadata": {
        "id": "712e57a8",
        "outputId": "db09c380-6e93-4123-c068-9d90d5ed3a39"
      },
      "outputs": [
        {
          "name": "stdout",
          "output_type": "stream",
          "text": [
            "0.5 18 15\n",
            "ordunun_dereleriordunun_dereleriordunun_dereleri\n"
          ]
        }
      ],
      "source": [
        "a=3\n",
        "b='ordunun_dereleri'\n",
        "c=a*2\n",
        "\n",
        "print(a/c,a*c,a*5)\n",
        "print(b*a)"
      ]
    },
    {
      "cell_type": "code",
      "execution_count": null,
      "id": "c021092c",
      "metadata": {
        "id": "c021092c",
        "outputId": "d5c6c36d-bdcb-4161-8d52-c8f0db9583c3"
      },
      "outputs": [
        {
          "data": {
            "text/plain": [
              "complex"
            ]
          },
          "execution_count": 27,
          "metadata": {},
          "output_type": "execute_result"
        }
      ],
      "source": [
        "#type() Komutu:\n",
        "\n",
        "type(100) #int\n",
        "type(100.0) #float\n",
        "type(1+3j) #complex"
      ]
    },
    {
      "cell_type": "markdown",
      "id": "2e256e03",
      "metadata": {
        "id": "2e256e03"
      },
      "source": [
        "### Tip Donusumleri"
      ]
    },
    {
      "cell_type": "code",
      "execution_count": null,
      "id": "77a469fd",
      "metadata": {
        "id": "77a469fd",
        "outputId": "2ac2a93f-d4a6-4576-af2c-3de016187a4c"
      },
      "outputs": [
        {
          "name": "stdout",
          "output_type": "stream",
          "text": [
            "Değer: 1\n",
            "Deger: 2\n"
          ]
        }
      ],
      "source": [
        "birinci_toplam=input('Değer: ') #1 olsun.\n",
        "ikinci_toplam=input('Deger: ') #2 olsun.\n"
      ]
    },
    {
      "cell_type": "code",
      "execution_count": null,
      "id": "766c1848",
      "metadata": {
        "id": "766c1848",
        "outputId": "7a284cde-08ec-4f36-93a5-900d85ebee45"
      },
      "outputs": [
        {
          "data": {
            "text/plain": [
              "str"
            ]
          },
          "execution_count": 29,
          "metadata": {},
          "output_type": "execute_result"
        }
      ],
      "source": [
        "type(birinci_toplam)"
      ]
    },
    {
      "cell_type": "code",
      "execution_count": null,
      "id": "ac8aa29f",
      "metadata": {
        "id": "ac8aa29f",
        "outputId": "8fd0f235-d771-4041-d324-3dc249947467"
      },
      "outputs": [
        {
          "data": {
            "text/plain": [
              "'12'"
            ]
          },
          "execution_count": 30,
          "metadata": {},
          "output_type": "execute_result"
        }
      ],
      "source": [
        "birinci_toplam + ikinci_toplam"
      ]
    },
    {
      "cell_type": "code",
      "execution_count": null,
      "id": "169d1c6e",
      "metadata": {
        "id": "169d1c6e",
        "outputId": "4022063c-9d89-440a-95c7-9ae11a110b8f"
      },
      "outputs": [
        {
          "data": {
            "text/plain": [
              "3"
            ]
          },
          "execution_count": 31,
          "metadata": {},
          "output_type": "execute_result"
        }
      ],
      "source": [
        "#int yapma:\n",
        "\n",
        "int(birinci_toplam)+int(ikinci_toplam)"
      ]
    },
    {
      "cell_type": "code",
      "execution_count": null,
      "id": "05bbad68",
      "metadata": {
        "id": "05bbad68",
        "outputId": "ce88c115-1ed3-4dc0-e65a-35896131a49f"
      },
      "outputs": [
        {
          "data": {
            "text/plain": [
              "3"
            ]
          },
          "execution_count": 32,
          "metadata": {},
          "output_type": "execute_result"
        }
      ],
      "source": [
        "#Ondalikli bir sayiyi int yapma:\n",
        "\n",
        "int(3.1454878)"
      ]
    },
    {
      "cell_type": "code",
      "execution_count": null,
      "id": "275a2f28",
      "metadata": {
        "id": "275a2f28",
        "outputId": "b11e7f31-ffb6-465a-95e0-e372dce1524d"
      },
      "outputs": [
        {
          "data": {
            "text/plain": [
              "str"
            ]
          },
          "execution_count": 33,
          "metadata": {},
          "output_type": "execute_result"
        }
      ],
      "source": [
        "a='asdasdaf15315/*-.-_?*'\n",
        "type(a)"
      ]
    },
    {
      "cell_type": "code",
      "execution_count": null,
      "id": "2151ec4d",
      "metadata": {
        "id": "2151ec4d",
        "outputId": "a48bf031-a3dd-4c28-92ae-1c61fd95f55e"
      },
      "outputs": [
        {
          "data": {
            "text/plain": [
              "str"
            ]
          },
          "execution_count": 34,
          "metadata": {},
          "output_type": "execute_result"
        }
      ],
      "source": [
        "#int bir ifadeyi str yapma:\n",
        "\n",
        "12\n",
        "type(12) #int\n",
        "type(str(12)) #str yapar"
      ]
    },
    {
      "cell_type": "markdown",
      "id": "7894d48b",
      "metadata": {
        "id": "7894d48b"
      },
      "source": [
        "###  print()"
      ]
    },
    {
      "cell_type": "code",
      "execution_count": null,
      "id": "2a500779",
      "metadata": {
        "id": "2a500779",
        "outputId": "bb8d4e61-1ea9-4ca0-e8e8-7e17c5aee307"
      },
      "outputs": [
        {
          "name": "stdout",
          "output_type": "stream",
          "text": [
            "Hello Ai Era\n"
          ]
        }
      ],
      "source": [
        "print('Hello Ai Era')"
      ]
    },
    {
      "cell_type": "code",
      "execution_count": null,
      "id": "e8b4f43c",
      "metadata": {
        "id": "e8b4f43c",
        "outputId": "41f3b804-7008-4e51-e57f-fecb52b65912"
      },
      "outputs": [
        {
          "name": "stdout",
          "output_type": "stream",
          "text": [
            "Hello_Ai_Era\n"
          ]
        }
      ],
      "source": [
        "#sep objelerin arasina istenilen degeri yazar.\n",
        "print('Hello','Ai','Era',sep='_')"
      ]
    },
    {
      "cell_type": "code",
      "execution_count": null,
      "id": "870d47e4",
      "metadata": {
        "id": "870d47e4",
        "outputId": "df370f6e-ce4a-4d8a-f350-ff6a70e136cc"
      },
      "outputs": [
        {
          "name": "stdout",
          "output_type": "stream",
          "text": [
            "Heavy_Metal_Kings"
          ]
        }
      ],
      "source": [
        "#end en sona istenilen degeri ekler.\n",
        "print('Heavy_Metal_King',end='s')"
      ]
    },
    {
      "cell_type": "markdown",
      "id": "ebaa5c1b",
      "metadata": {
        "id": "ebaa5c1b"
      },
      "source": [
        "## **Listeler**"
      ]
    },
    {
      "cell_type": "code",
      "execution_count": null,
      "id": "249b8b52",
      "metadata": {
        "id": "249b8b52"
      },
      "outputs": [],
      "source": [
        "#[]\n",
        "#list()\n",
        "sayilar=[60,50,40]"
      ]
    },
    {
      "cell_type": "code",
      "execution_count": null,
      "id": "e06905a2",
      "metadata": {
        "id": "e06905a2",
        "outputId": "8abcf3b2-400d-4bd5-e8b9-606ef071b06a"
      },
      "outputs": [
        {
          "data": {
            "text/plain": [
              "list"
            ]
          },
          "execution_count": 39,
          "metadata": {},
          "output_type": "execute_result"
        }
      ],
      "source": [
        "#list\n",
        "type(sayilar)"
      ]
    },
    {
      "cell_type": "code",
      "execution_count": null,
      "id": "a116b200",
      "metadata": {
        "id": "a116b200",
        "outputId": "d13049c4-c3c4-4126-b5bf-e1b096830e22"
      },
      "outputs": [
        {
          "data": {
            "text/plain": [
              "['e', 3, 3.5, 4, [60, 50, 40]]"
            ]
          },
          "execution_count": 42,
          "metadata": {},
          "output_type": "execute_result"
        }
      ],
      "source": [
        "liste=['e',3,3.5,4]\n",
        "liste_genis=['e',3,3.5,4,sayilar]\n",
        "liste_genis"
      ]
    },
    {
      "cell_type": "code",
      "execution_count": null,
      "id": "d229577a",
      "metadata": {
        "id": "d229577a",
        "outputId": "a7876ccf-2362-4ebe-bec5-de4c0912a1d1"
      },
      "outputs": [
        {
          "data": {
            "text/plain": [
              "5"
            ]
          },
          "execution_count": 43,
          "metadata": {},
          "output_type": "execute_result"
        }
      ],
      "source": [
        "len(liste_genis)"
      ]
    },
    {
      "cell_type": "code",
      "execution_count": null,
      "id": "6cea8585",
      "metadata": {
        "id": "6cea8585",
        "outputId": "148f2b45-e369-485e-dea8-ae66e074589b"
      },
      "outputs": [
        {
          "data": {
            "text/plain": [
              "40"
            ]
          },
          "execution_count": 44,
          "metadata": {},
          "output_type": "execute_result"
        }
      ],
      "source": [
        "liste_genis[4][2]"
      ]
    },
    {
      "cell_type": "code",
      "execution_count": null,
      "id": "60c8a0fe",
      "metadata": {
        "id": "60c8a0fe",
        "outputId": "0c0adb7e-3a79-4442-9865-5e7be3bb47b4"
      },
      "outputs": [
        {
          "data": {
            "text/plain": [
              "50"
            ]
          },
          "execution_count": 45,
          "metadata": {},
          "output_type": "execute_result"
        }
      ],
      "source": [
        "tum_liste=[sayilar,liste_genis]\n",
        "tum_liste[1][4][1]"
      ]
    },
    {
      "cell_type": "code",
      "execution_count": null,
      "id": "e1170b60",
      "metadata": {
        "id": "e1170b60",
        "outputId": "aa16f9d8-8b71-4e3d-bb14-4759683b7ce1"
      },
      "outputs": [
        {
          "data": {
            "text/plain": [
              "[]"
            ]
          },
          "execution_count": 47,
          "metadata": {},
          "output_type": "execute_result"
        }
      ],
      "source": [
        "#liste temizleme clear() Komutu:\n",
        "\n",
        "tum_liste.clear()\n",
        "tum_liste"
      ]
    },
    {
      "cell_type": "markdown",
      "id": "d4aeadf6",
      "metadata": {
        "id": "d4aeadf6"
      },
      "source": [
        "#### I. Listelerde Eleman Degistirme"
      ]
    },
    {
      "cell_type": "code",
      "execution_count": null,
      "id": "76ea53fa",
      "metadata": {
        "id": "76ea53fa",
        "outputId": "4b5db432-2e60-4e19-a53e-834866734dde"
      },
      "outputs": [
        {
          "data": {
            "text/plain": [
              "['Haliliye', 'Akcakale', 'Siverek', 'Viranşehir', 'Ceylanpinar']"
            ]
          },
          "execution_count": 50,
          "metadata": {},
          "output_type": "execute_result"
        }
      ],
      "source": [
        "ilceler=['Haliliye','Akcakale','Siverek','Viranşehir','Ceylanpinar']\n",
        "ilceler"
      ]
    },
    {
      "cell_type": "code",
      "execution_count": null,
      "id": "c27bc4a4",
      "metadata": {
        "id": "c27bc4a4",
        "outputId": "8f1b81b8-386e-4802-cca2-03a7c47a92c7"
      },
      "outputs": [
        {
          "data": {
            "text/plain": [
              "['Haliliye', 'Akcakale', 'Siverek', 'Viransehir', 'Ceylanpinar']"
            ]
          },
          "execution_count": 52,
          "metadata": {},
          "output_type": "execute_result"
        }
      ],
      "source": [
        "ilceler[3]='Viransehir'\n",
        "ilceler"
      ]
    },
    {
      "cell_type": "code",
      "execution_count": null,
      "id": "9442e883",
      "metadata": {
        "id": "9442e883",
        "outputId": "1d011cd7-e6c5-47cd-cfdb-b03b3c18b370"
      },
      "outputs": [
        {
          "data": {
            "text/plain": [
              "['Haliliye_İlcesi', 'Akcakale_İlcesi', 'Siverek', 'Viransehir', 'Ceylanpinar']"
            ]
          },
          "execution_count": 53,
          "metadata": {},
          "output_type": "execute_result"
        }
      ],
      "source": [
        "ilceler[0:2]='Haliliye_İlcesi','Akcakale_İlcesi'\n",
        "ilceler"
      ]
    },
    {
      "cell_type": "markdown",
      "id": "589bd38e",
      "metadata": {
        "id": "589bd38e"
      },
      "source": [
        "#### II. Listelere Eleman Ekleme"
      ]
    },
    {
      "cell_type": "code",
      "execution_count": null,
      "id": "929aef8c",
      "metadata": {
        "id": "929aef8c",
        "outputId": "31296761-16c0-4adb-d6d0-a0321425ecd0"
      },
      "outputs": [
        {
          "data": {
            "text/plain": [
              "['Haliliye', 'Akcakale', 'Siverek', 'Viranşehir', 'Ceylanpinar', 'Suruc']"
            ]
          },
          "execution_count": 61,
          "metadata": {},
          "output_type": "execute_result"
        }
      ],
      "source": [
        "ilceler=['Haliliye','Akcakale','Siverek','Viranşehir','Ceylanpinar']\n",
        "\n",
        "ilceler = ilceler+['Suruc']\n",
        "ilceler"
      ]
    },
    {
      "cell_type": "markdown",
      "id": "c32d0e2b",
      "metadata": {
        "id": "c32d0e2b"
      },
      "source": [
        "#### III. Listelerde Eleman Silme"
      ]
    },
    {
      "cell_type": "code",
      "execution_count": null,
      "id": "ab9b9481",
      "metadata": {
        "id": "ab9b9481",
        "outputId": "a2d68ab3-2c6b-40f9-ac4d-28b49f624cfe"
      },
      "outputs": [
        {
          "data": {
            "text/plain": [
              "['Haliliye', 'Akcakale', 'Siverek', 'Viranşehir', 'Ceylanpinar']"
            ]
          },
          "execution_count": 62,
          "metadata": {},
          "output_type": "execute_result"
        }
      ],
      "source": [
        "del ilceler[5]\n",
        "ilceler"
      ]
    },
    {
      "cell_type": "markdown",
      "id": "899b7f97",
      "metadata": {
        "id": "899b7f97"
      },
      "source": [
        "#### IV. Liste Metodlari"
      ]
    },
    {
      "cell_type": "code",
      "execution_count": null,
      "id": "33d7d08d",
      "metadata": {
        "id": "33d7d08d",
        "outputId": "5507db12-a8b2-4b27-c747-d62d509bb02c"
      },
      "outputs": [
        {
          "data": {
            "text/plain": [
              "['Haliliye', 'Akcakale', 'Siverek', 'Viranşehir', 'Ceylanpinar', 'Suruc']"
            ]
          },
          "execution_count": 63,
          "metadata": {},
          "output_type": "execute_result"
        }
      ],
      "source": [
        "#append() Komutu:\n",
        "#listeye eleman ekleme gorevi yapar. Eklemeyi sondan yapar.\n",
        "\n",
        "ilceler.append('Suruc')\n",
        "ilceler"
      ]
    },
    {
      "cell_type": "code",
      "execution_count": null,
      "id": "2b1c9c7a",
      "metadata": {
        "id": "2b1c9c7a",
        "outputId": "7138fa83-4ecd-4555-ca59-5e99a9e398c3"
      },
      "outputs": [
        {
          "data": {
            "text/plain": [
              "['Haliliye', 'Akcakale', 'Siverek', 'Viranşehir', 'Ceylanpinar']"
            ]
          },
          "execution_count": 64,
          "metadata": {},
          "output_type": "execute_result"
        }
      ],
      "source": [
        "#remove() Komutu:\n",
        "#Listelerde eleman silme gorevi yapar.\n",
        "\n",
        "ilceler.remove('Suruc')\n",
        "ilceler"
      ]
    },
    {
      "cell_type": "code",
      "execution_count": null,
      "id": "31b5dc3d",
      "metadata": {
        "id": "31b5dc3d",
        "outputId": "90afc1e0-1d4c-4169-eff0-3f777ef6374f"
      },
      "outputs": [
        {
          "data": {
            "text/plain": [
              "['Haliliye', 'Karakopru', 'Akcakale', 'Siverek', 'Viranşehir', 'Ceylanpinar']"
            ]
          },
          "execution_count": 67,
          "metadata": {},
          "output_type": "execute_result"
        }
      ],
      "source": [
        "#insert() Komutu:\n",
        "#Listelerde istenilen index'ten itibaren ekleme yapma gorevi gorur.\n",
        "\n",
        "ilceler.insert(1,'Karakopru')  #araya ekleme\n",
        "ilceler"
      ]
    },
    {
      "cell_type": "code",
      "execution_count": null,
      "id": "26ef5b69",
      "metadata": {
        "id": "26ef5b69",
        "outputId": "5157bb81-1bea-47ae-a498-00ac6253cefb"
      },
      "outputs": [
        {
          "data": {
            "text/plain": [
              "['Haliliye',\n",
              " 'Karakopru',\n",
              " 'Akcakale',\n",
              " 'Siverek',\n",
              " 'Viranşehir',\n",
              " 'Ceylanpinar',\n",
              " 'Suruc']"
            ]
          },
          "execution_count": 68,
          "metadata": {},
          "output_type": "execute_result"
        }
      ],
      "source": [
        "ilceler.insert(len(ilceler),'Suruc')\n",
        "ilceler"
      ]
    },
    {
      "cell_type": "code",
      "execution_count": null,
      "id": "79959831",
      "metadata": {
        "id": "79959831",
        "outputId": "111f8cea-98ee-4785-f13d-496d12b09a35"
      },
      "outputs": [
        {
          "data": {
            "text/plain": [
              "['Haliliye', 'Karakopru', 'Akcakale', 'Siverek', 'Viranşehir', 'Ceylanpinar']"
            ]
          },
          "execution_count": 71,
          "metadata": {},
          "output_type": "execute_result"
        }
      ],
      "source": [
        "#pop() Komutu:\n",
        "#Listeden istenilen index'teki elemanı silmeye yarar.\n",
        "\n",
        "ilceler.pop(6)\n",
        "ilceler"
      ]
    },
    {
      "cell_type": "code",
      "execution_count": null,
      "id": "cae4ceef",
      "metadata": {
        "id": "cae4ceef",
        "outputId": "f4d56dd4-0329-4540-d82e-130e07c07a71"
      },
      "outputs": [
        {
          "data": {
            "text/plain": [
              "2"
            ]
          },
          "execution_count": 72,
          "metadata": {},
          "output_type": "execute_result"
        }
      ],
      "source": [
        "#count() Komutu:\n",
        "#Listede eleman saymaya yarar.\n",
        "\n",
        "isim_listesi=['Esra','İbrahim','Bahattin','Bereket','İbrahim','Hatice','Naile']\n",
        "\n",
        "isim_listesi.count('İbrahim')"
      ]
    },
    {
      "cell_type": "code",
      "execution_count": null,
      "id": "ff8e4831",
      "metadata": {
        "id": "ff8e4831",
        "outputId": "4bf50c09-2aa5-4861-f17e-09b20bd957a5"
      },
      "outputs": [
        {
          "data": {
            "text/plain": [
              "['Esra', 'İbrahim', 'Bahattin', 'Bereket', 'İbrahim', 'Hatice', 'Naile']"
            ]
          },
          "execution_count": 73,
          "metadata": {},
          "output_type": "execute_result"
        }
      ],
      "source": [
        "#copy() Komutu:\n",
        "#Liste yedekleme isine yarar.\n",
        "\n",
        "yedek_isim_listesi=isim_listesi.copy()\n",
        "yedek_isim_listesi"
      ]
    },
    {
      "cell_type": "code",
      "execution_count": null,
      "id": "76530727",
      "metadata": {
        "id": "76530727",
        "outputId": "739fe755-c796-4577-a8f3-6138675b1c68"
      },
      "outputs": [
        {
          "data": {
            "text/plain": [
              "['Esra',\n",
              " 'İbrahim',\n",
              " 'Bahattin',\n",
              " 'Bereket',\n",
              " 'İbrahim',\n",
              " 'Hatice',\n",
              " 'Naile',\n",
              " 'Harun',\n",
              " 'Hikmet',\n",
              " 'Harun',\n",
              " 'Hikmet']"
            ]
          },
          "execution_count": 78,
          "metadata": {},
          "output_type": "execute_result"
        }
      ],
      "source": [
        "#extend() Komutu:\n",
        "#Liste genişletmeye yarar.\n",
        "\n",
        "isim_listesi.extend(['Harun','Hikmet'])\n",
        "isim_listesi"
      ]
    },
    {
      "cell_type": "code",
      "execution_count": null,
      "id": "fb835dc5",
      "metadata": {
        "id": "fb835dc5",
        "outputId": "70323761-594b-4e96-f497-b3a2b2a81230"
      },
      "outputs": [
        {
          "data": {
            "text/plain": [
              "0"
            ]
          },
          "execution_count": 75,
          "metadata": {},
          "output_type": "execute_result"
        }
      ],
      "source": [
        "#index() Komutu:\n",
        "#Elemanin index degerini veren komut\n",
        "\n",
        "isim_listesi.index('Esra')"
      ]
    },
    {
      "cell_type": "code",
      "execution_count": null,
      "id": "68432361",
      "metadata": {
        "id": "68432361",
        "outputId": "db0aecfb-42df-4cb5-df52-9e3347d1adb0"
      },
      "outputs": [
        {
          "data": {
            "text/plain": [
              "['Hikmet',\n",
              " 'Harun',\n",
              " 'Hikmet',\n",
              " 'Harun',\n",
              " 'Naile',\n",
              " 'Hatice',\n",
              " 'İbrahim',\n",
              " 'Bereket',\n",
              " 'Bahattin',\n",
              " 'İbrahim',\n",
              " 'Esra']"
            ]
          },
          "execution_count": 79,
          "metadata": {},
          "output_type": "execute_result"
        }
      ],
      "source": [
        "#reverse() Komutu:\n",
        "#Listeyi sondan basa - tersten yazmaya yarar.\n",
        "\n",
        "isim_listesi.reverse()\n",
        "isim_listesi"
      ]
    },
    {
      "cell_type": "code",
      "execution_count": null,
      "id": "b5b9fe58",
      "metadata": {
        "id": "b5b9fe58",
        "outputId": "a13944e1-dd47-4aa2-add0-8cde922ac35b"
      },
      "outputs": [
        {
          "data": {
            "text/plain": [
              "['Bahattin',\n",
              " 'Bereket',\n",
              " 'Esra',\n",
              " 'Harun',\n",
              " 'Harun',\n",
              " 'Hatice',\n",
              " 'Hikmet',\n",
              " 'Hikmet',\n",
              " 'Naile',\n",
              " 'İbrahim',\n",
              " 'İbrahim']"
            ]
          },
          "execution_count": 80,
          "metadata": {},
          "output_type": "execute_result"
        }
      ],
      "source": [
        "#sort() Komutu:\n",
        "#Listede elemanlari siralamaya yarar.\n",
        "\n",
        "isim_listesi.sort()\n",
        "isim_listesi"
      ]
    },
    {
      "cell_type": "markdown",
      "id": "44c2b626",
      "metadata": {
        "id": "44c2b626"
      },
      "source": [
        "## **Veri Yapilari**"
      ]
    },
    {
      "cell_type": "markdown",
      "id": "0cfa89aa",
      "metadata": {
        "id": "0cfa89aa"
      },
      "source": [
        "#### I. Tuple (Demet)"
      ]
    },
    {
      "cell_type": "code",
      "execution_count": null,
      "id": "e605646b",
      "metadata": {
        "id": "e605646b"
      },
      "outputs": [],
      "source": [
        "#tuple = () Değiştirilemezler."
      ]
    },
    {
      "cell_type": "code",
      "execution_count": null,
      "id": "04004a87",
      "metadata": {
        "id": "04004a87",
        "outputId": "9855e5fb-e32e-45d4-864f-7b9020d7551f"
      },
      "outputs": [
        {
          "data": {
            "text/plain": [
              "('Esra', 'Mavi', 37, 63, 3.5, [1, 4, 5, 3])"
            ]
          },
          "execution_count": 83,
          "metadata": {},
          "output_type": "execute_result"
        }
      ],
      "source": [
        "t=('Esra','Mavi',37,63,3.5,[1,4,5,3])\n",
        "t"
      ]
    },
    {
      "cell_type": "code",
      "execution_count": null,
      "id": "c2586cf7",
      "metadata": {
        "id": "c2586cf7",
        "outputId": "9961bbdc-ae7f-4571-f193-721995cebbcc"
      },
      "outputs": [
        {
          "data": {
            "text/plain": [
              "('Esra', 'Mavi', 37, 63, 3.5, [1, 4, 5, 3])"
            ]
          },
          "execution_count": 84,
          "metadata": {},
          "output_type": "execute_result"
        }
      ],
      "source": [
        "#ya da\n",
        "t='Esra','Mavi',37,63,3.5,[1,4,5,3]\n",
        "t"
      ]
    },
    {
      "cell_type": "code",
      "execution_count": null,
      "id": "731d147f",
      "metadata": {
        "id": "731d147f",
        "outputId": "186512ad-7897-4dac-9a08-b139310a734f"
      },
      "outputs": [
        {
          "name": "stdout",
          "output_type": "stream",
          "text": [
            "('eleman',)\n",
            "<class 'tuple'>\n"
          ]
        }
      ],
      "source": [
        "t=('eleman',)   #buradaki virgul ile tuple'a donusur.\n",
        "print(t)\n",
        "print(type(t))"
      ]
    },
    {
      "cell_type": "code",
      "execution_count": null,
      "id": "e8104ab3",
      "metadata": {
        "id": "e8104ab3",
        "outputId": "8dce4b2c-848c-402f-c06d-88a9e1adc98d"
      },
      "outputs": [
        {
          "data": {
            "text/plain": [
              "'Esra'"
            ]
          },
          "execution_count": 88,
          "metadata": {},
          "output_type": "execute_result"
        }
      ],
      "source": [
        "#tuple'larda substring islemler\n",
        "\n",
        "t='Esra','Mavi',37,63,3.5,[1,4,5,3]\n",
        "\n",
        "t[0]"
      ]
    },
    {
      "cell_type": "markdown",
      "id": "5eb88f0a",
      "metadata": {
        "id": "5eb88f0a"
      },
      "source": [
        "#### II. Sozluk (Dictionary)"
      ]
    },
    {
      "cell_type": "code",
      "execution_count": null,
      "id": "dba20290",
      "metadata": {
        "id": "dba20290",
        "outputId": "98a4c340-4c44-4db2-babc-f2af8aea1dc5"
      },
      "outputs": [
        {
          "data": {
            "text/plain": [
              "{'Adi': 'Kullanici Adi',\n",
              " 'Soyadi': 'Kullanici Soyadi',\n",
              " 'Yas': 'Kullanici Yasi',\n",
              " 'TC': 'Kullanici Kimlik Numarasi'}"
            ]
          },
          "execution_count": 94,
          "metadata": {},
          "output_type": "execute_result"
        }
      ],
      "source": [
        "#Sozluk Olusturma:\n",
        "#once keyler sonra degerleri yazilir\n",
        "sozluk = {'Adi':'Kullanici Adi',\n",
        "          'Soyadi': 'Kullanici Soyadi',\n",
        "          'Yas':'Kullanici Yasi',\n",
        "          'TC':'Kullanici Kimlik Numarasi'}\n",
        "sozluk"
      ]
    },
    {
      "cell_type": "code",
      "execution_count": null,
      "id": "8e63fbe7",
      "metadata": {
        "id": "8e63fbe7",
        "outputId": "33de4c54-8eac-4cbb-efc6-48f8590eaacb"
      },
      "outputs": [
        {
          "data": {
            "text/plain": [
              "4"
            ]
          },
          "execution_count": 91,
          "metadata": {},
          "output_type": "execute_result"
        }
      ],
      "source": [
        "len(sozluk) #icerdigi key sayisi"
      ]
    },
    {
      "cell_type": "code",
      "execution_count": null,
      "id": "de2ac44e",
      "metadata": {
        "id": "de2ac44e",
        "outputId": "1a7ba37a-9f40-4652-a140-b175427c9c02"
      },
      "outputs": [
        {
          "data": {
            "text/plain": [
              "{'Plaka': 63, 'Tel Kod': 414, 'Yil': 2022}"
            ]
          },
          "execution_count": 93,
          "metadata": {},
          "output_type": "execute_result"
        }
      ],
      "source": [
        "#sozluklere liste de eklenebilir sayisal degerler de eklenebilir.\n",
        "\n",
        "yeni_sozluk={'Plaka':63,\n",
        "             'Tel Kod':414,\n",
        "             'Yil':2022}\n",
        "yeni_sozluk"
      ]
    },
    {
      "cell_type": "code",
      "execution_count": null,
      "id": "8ad20b0e",
      "metadata": {
        "id": "8ad20b0e",
        "outputId": "17fd99f7-193b-4fa7-d694-aa81136243ab"
      },
      "outputs": [
        {
          "data": {
            "text/plain": [
              "{'Il': ['Sanliurfa', 63], 'Tel': ['Kod', 414], 'Tarih': ['Yil', 2022]}"
            ]
          },
          "execution_count": 95,
          "metadata": {},
          "output_type": "execute_result"
        }
      ],
      "source": [
        "yeni_sozluk2 = {'Il':['Sanliurfa',63],\n",
        "                'Tel':['Kod',414],\n",
        "                'Tarih':['Yil',2022]}\n",
        "yeni_sozluk2"
      ]
    },
    {
      "cell_type": "code",
      "execution_count": null,
      "id": "e300a86e",
      "metadata": {
        "id": "e300a86e",
        "outputId": "790c2188-648f-48d4-bab8-cd322097c779"
      },
      "outputs": [
        {
          "data": {
            "text/plain": [
              "'Esra'"
            ]
          },
          "execution_count": 98,
          "metadata": {},
          "output_type": "execute_result"
        }
      ],
      "source": [
        "#substring islemler:\n",
        "sozluk = {'Adi':'Esra',\n",
        "          'Soyadi': 'Akdas',\n",
        "          'Yas':27,\n",
        "          'TC':'65265324265'}\n",
        "\n",
        "#sozluk[0]  komutu calistirildiginda KeyError hatasi verir. Key Girilmelidir.\n",
        "sozluk['Adi']"
      ]
    },
    {
      "cell_type": "code",
      "execution_count": null,
      "id": "001b2fbb",
      "metadata": {
        "id": "001b2fbb",
        "outputId": "bde557fe-f885-451c-b157-a39fb62e9472"
      },
      "outputs": [
        {
          "data": {
            "text/plain": [
              "85"
            ]
          },
          "execution_count": 99,
          "metadata": {},
          "output_type": "execute_result"
        }
      ],
      "source": [
        "#sozluk icinde sozluk olusturma:\n",
        "\n",
        "dictionary={'REG':{'RMSE':10,\n",
        "                   'MSE' :20,\n",
        "                   'SSE' :30},\n",
        "            'LOJ':{'RMSE':36,\n",
        "                   'MSE' :85,\n",
        "                   'SSE' :28},\n",
        "            'CART':{'RMSE':52,\n",
        "                    'MSE' :40,\n",
        "                    'SSE' :25}}\n",
        "dictionary['LOJ']['MSE']"
      ]
    },
    {
      "cell_type": "code",
      "execution_count": null,
      "id": "189040a3",
      "metadata": {
        "id": "189040a3",
        "outputId": "fe086b92-540d-4610-b3c2-6f1e4f34c9f5"
      },
      "outputs": [
        {
          "data": {
            "text/plain": [
              "{'Adi': 'Esra',\n",
              " 'Soyadi': 'Akdas',\n",
              " 'Yas': 27,\n",
              " 'TC': '65265324265',\n",
              " 'Il': 'Kastamonu'}"
            ]
          },
          "execution_count": 100,
          "metadata": {},
          "output_type": "execute_result"
        }
      ],
      "source": [
        "#Sozluklere Eleman Ekleme / Key Ekleme\n",
        "\n",
        "sozluk = {'Adi':'Esra',\n",
        "          'Soyadi': 'Akdas',\n",
        "          'Yas':27,\n",
        "          'TC':'65265324265'}\n",
        "\n",
        "sozluk['Il']='Kastamonu'\n",
        "sozluk\n"
      ]
    },
    {
      "cell_type": "code",
      "execution_count": null,
      "id": "f8198be4",
      "metadata": {
        "id": "f8198be4",
        "outputId": "3eb102f2-95af-4255-fd8a-833e54ede4ed"
      },
      "outputs": [
        {
          "data": {
            "text/plain": [
              "{'Adi': 'Esra',\n",
              " 'Soyadi': 'Akdas',\n",
              " 'Yas': 27,\n",
              " 'TC': '65265324265',\n",
              " 'Il': 'Sanliurfa'}"
            ]
          },
          "execution_count": 101,
          "metadata": {},
          "output_type": "execute_result"
        }
      ],
      "source": [
        "#Sozluklere Eleman Degistirme\n",
        "sozluk = {'Adi':'Esra',\n",
        "          'Soyadi': 'Akdas',\n",
        "          'Yas':27,\n",
        "          'TC':'65265324265'}\n",
        "\n",
        "sozluk['Il']='Sanliurfa'\n",
        "sozluk\n"
      ]
    },
    {
      "cell_type": "code",
      "execution_count": null,
      "id": "69b98e4a",
      "metadata": {
        "id": "69b98e4a",
        "outputId": "021e7b8e-7fe8-42a2-af5e-06b7643bb4f7"
      },
      "outputs": [
        {
          "data": {
            "text/plain": [
              "{'Adi': 'Esra',\n",
              " 'Soyadi': 'Akdas',\n",
              " 'Yas': 27,\n",
              " 'TC': '65265324265',\n",
              " 'Il': 'Sanliurfa',\n",
              " ('tuple',): 'Yeni Bir Sey'}"
            ]
          },
          "execution_count": 102,
          "metadata": {},
          "output_type": "execute_result"
        }
      ],
      "source": [
        "#sozluge tuple ekleme\n",
        "\n",
        "t=('tuple',)\n",
        "sozluk[t]='Yeni Bir Sey'\n",
        "sozluk"
      ]
    },
    {
      "cell_type": "code",
      "execution_count": null,
      "id": "dfc38142",
      "metadata": {
        "id": "dfc38142"
      },
      "outputs": [],
      "source": [
        "# a = [1]\n",
        "# sozluk[1]='Yeni Bir Sey'\n",
        "#Seklinde yazilirsa TypeError hatasi verir."
      ]
    },
    {
      "cell_type": "markdown",
      "id": "a4eedbcc",
      "metadata": {
        "id": "a4eedbcc"
      },
      "source": [
        "#### III. Setler"
      ]
    },
    {
      "cell_type": "code",
      "execution_count": null,
      "id": "07bf3a64",
      "metadata": {
        "id": "07bf3a64",
        "outputId": "77a3191b-b91f-44e6-a99b-4e4f570133b0"
      },
      "outputs": [
        {
          "data": {
            "text/plain": [
              "set()"
            ]
          },
          "execution_count": 104,
          "metadata": {},
          "output_type": "execute_result"
        }
      ],
      "source": [
        "#sirasiz - essizdirler.\n",
        "s=set()\n",
        "s"
      ]
    },
    {
      "cell_type": "code",
      "execution_count": null,
      "id": "dc149895",
      "metadata": {
        "id": "dc149895",
        "outputId": "d18ae0a7-f059-4002-ee3b-c04b7880005d"
      },
      "outputs": [
        {
          "data": {
            "text/plain": [
              "{1, 123, 'a', 'ali'}"
            ]
          },
          "execution_count": 105,
          "metadata": {},
          "output_type": "execute_result"
        }
      ],
      "source": [
        "l=[1,'a','ali',123]\n",
        "s=set(l)\n",
        "s"
      ]
    },
    {
      "cell_type": "code",
      "execution_count": null,
      "id": "0e54a5d5",
      "metadata": {
        "id": "0e54a5d5",
        "outputId": "f32b31fd-409a-46ee-c7d2-c313418637a7"
      },
      "outputs": [
        {
          "name": "stdout",
          "output_type": "stream",
          "text": [
            "7\n",
            "5\n",
            "{'İbrahim', 'Bereket', 'Naile', 'Hatice', 'Esra'}\n"
          ]
        }
      ],
      "source": [
        "#setler tekrarli ifadeleri bir kez yazarlar\n",
        "\n",
        "l=['Esra','İbrahim','Esra','Bereket','İbrahim','Hatice','Naile']\n",
        "s=set(l)\n",
        "\n",
        "print(len(l))\n",
        "print(len(s))\n",
        "print(s)"
      ]
    },
    {
      "cell_type": "code",
      "execution_count": null,
      "id": "6682cc5b",
      "metadata": {
        "id": "6682cc5b"
      },
      "outputs": [],
      "source": [
        "#s[0] yazip calistirinca TypeError hatasi aliriz."
      ]
    },
    {
      "cell_type": "code",
      "execution_count": null,
      "id": "ddda26cf",
      "metadata": {
        "id": "ddda26cf",
        "outputId": "f5958a65-80f5-4436-dbc5-b4010c2f5257"
      },
      "outputs": [
        {
          "data": {
            "text/plain": [
              "{'Buyuksehir', 'Sanliurfa'}"
            ]
          },
          "execution_count": 117,
          "metadata": {},
          "output_type": "execute_result"
        }
      ],
      "source": [
        "#eleman ekleme:\n",
        "#add() Komutu:\n",
        "\n",
        "l=['Sanliurfa','Buyuksehir']\n",
        "s=set(l)\n",
        "s"
      ]
    },
    {
      "cell_type": "code",
      "execution_count": null,
      "id": "658709c6",
      "metadata": {
        "id": "658709c6",
        "outputId": "70269d50-ff58-4357-a01c-88d766faa5c7"
      },
      "outputs": [
        {
          "data": {
            "text/plain": [
              "{'Buyuksehir', 'Sanliurfa', 'ile'}"
            ]
          },
          "execution_count": 120,
          "metadata": {},
          "output_type": "execute_result"
        }
      ],
      "source": [
        "s.add('ile')\n",
        "s"
      ]
    },
    {
      "cell_type": "code",
      "execution_count": null,
      "id": "acf71edb",
      "metadata": {
        "id": "acf71edb",
        "outputId": "0ffc8874-1290-47ba-b993-12e159912dee"
      },
      "outputs": [
        {
          "ename": "KeyError",
          "evalue": "'ile'",
          "output_type": "error",
          "traceback": [
            "\u001b[1;31m---------------------------------------------------------------------------\u001b[0m",
            "\u001b[1;31mKeyError\u001b[0m                                  Traceback (most recent call last)",
            "Input \u001b[1;32mIn [125]\u001b[0m, in \u001b[0;36m<cell line: 3>\u001b[1;34m()\u001b[0m\n\u001b[0;32m      1\u001b[0m \u001b[38;5;66;03m#remove() Komutu:\u001b[39;00m\n\u001b[1;32m----> 3\u001b[0m \u001b[43ms\u001b[49m\u001b[38;5;241;43m.\u001b[39;49m\u001b[43mremove\u001b[49m\u001b[43m(\u001b[49m\u001b[38;5;124;43m'\u001b[39;49m\u001b[38;5;124;43mile\u001b[39;49m\u001b[38;5;124;43m'\u001b[39;49m\u001b[43m)\u001b[49m\n\u001b[0;32m      4\u001b[0m s\n",
            "\u001b[1;31mKeyError\u001b[0m: 'ile'"
          ]
        }
      ],
      "source": [
        "#remove() Komutu:\n",
        "#remove() komutu verildiginde eleman yoksa hata verir.\n",
        "s.remove('ile')\n",
        "s"
      ]
    },
    {
      "cell_type": "code",
      "execution_count": null,
      "id": "d5eb25cd",
      "metadata": {
        "id": "d5eb25cd",
        "outputId": "a32ba279-3211-4281-e501-84eb725e8c9e"
      },
      "outputs": [
        {
          "data": {
            "text/plain": [
              "{'Buyuksehir', 'Sanliurfa'}"
            ]
          },
          "execution_count": 124,
          "metadata": {},
          "output_type": "execute_result"
        }
      ],
      "source": [
        "#discard() Komutu:\n",
        "#eleman cikar\n",
        "#eleman varsa cikartir yoksa calismaya devam eder hata uretmez.\n",
        "s.discard('ile')\n",
        "s"
      ]
    },
    {
      "cell_type": "code",
      "execution_count": null,
      "id": "a09d7fd5",
      "metadata": {
        "id": "a09d7fd5",
        "outputId": "8b49a071-6b68-4427-c2a3-791ff40a6421"
      },
      "outputs": [
        {
          "name": "stdout",
          "output_type": "stream",
          "text": [
            "Set1 fark Set2:  {5}\n",
            "Set2 fark Set1:  {2}\n"
          ]
        }
      ],
      "source": [
        "#iki kumenin farkini bulma:\n",
        "#difference() Komutu\n",
        "\n",
        "set1=set([1,3,5])\n",
        "set2=set([1,2,3])\n",
        "\n",
        "print('Set1 fark Set2: ',set1.difference(set2))\n",
        "print('Set2 fark Set1: ',set2.difference(set1))\n"
      ]
    },
    {
      "cell_type": "code",
      "execution_count": null,
      "id": "057000ea",
      "metadata": {
        "id": "057000ea",
        "outputId": "2401e439-9fdc-4d04-8be3-b5ca6d32ac71"
      },
      "outputs": [
        {
          "name": "stdout",
          "output_type": "stream",
          "text": [
            "Set1 fark Set2:  {5}\n",
            "Set2 fark Set1:  {2}\n"
          ]
        }
      ],
      "source": [
        "#fark icin '-' karakteri de kullanilir.\n",
        "\n",
        "print('Set1 fark Set2: ',set1-set2)\n",
        "print('Set2 fark Set1: ',set2-set1)"
      ]
    },
    {
      "cell_type": "code",
      "execution_count": null,
      "id": "fb113687",
      "metadata": {
        "id": "fb113687",
        "outputId": "15577ada-109b-49d4-c329-025f2ef963b6"
      },
      "outputs": [
        {
          "name": "stdout",
          "output_type": "stream",
          "text": [
            "{1, 3}\n",
            "{1, 3}\n"
          ]
        }
      ],
      "source": [
        "#iki kume kesisimi:\n",
        "#intersection() Komutu:\n",
        "print(set1.intersection(set2))\n",
        "#or\n",
        "print(set2.intersection(set1))\n"
      ]
    },
    {
      "cell_type": "code",
      "execution_count": null,
      "id": "70d69982",
      "metadata": {
        "id": "70d69982",
        "outputId": "b58ebbaa-c696-4441-afbb-e3cb9b0f4d7a"
      },
      "outputs": [
        {
          "name": "stdout",
          "output_type": "stream",
          "text": [
            "{1, 3}\n"
          ]
        }
      ],
      "source": [
        "#kesisim icin '&' karakteri de kullanilir.\n",
        "\n",
        "print(set1 & set2)"
      ]
    },
    {
      "cell_type": "code",
      "execution_count": null,
      "id": "07ac990f",
      "metadata": {
        "id": "07ac990f",
        "outputId": "4d7300fe-343e-44ac-94a6-0c88540d274f"
      },
      "outputs": [
        {
          "data": {
            "text/plain": [
              "{1, 2, 3, 5}"
            ]
          },
          "execution_count": 136,
          "metadata": {},
          "output_type": "execute_result"
        }
      ],
      "source": [
        "#iki kumenin birlesimi:\n",
        "#union() Komutu:\n",
        "birlesim=set1.union(set2)\n",
        "birlesim"
      ]
    },
    {
      "cell_type": "code",
      "execution_count": null,
      "id": "c25e2db5",
      "metadata": {
        "id": "c25e2db5"
      },
      "outputs": [],
      "source": [
        "#setlerde sorgu islemleri:\n",
        "\n",
        "set1=set([7,8,9])\n",
        "set2=set([5,6,7,8,9,10])\n"
      ]
    },
    {
      "cell_type": "code",
      "execution_count": null,
      "id": "25253cad",
      "metadata": {
        "id": "25253cad",
        "outputId": "0408765d-61b1-4e80-8984-08013459d9c2"
      },
      "outputs": [
        {
          "name": "stdout",
          "output_type": "stream",
          "text": [
            "False\n",
            "False\n"
          ]
        }
      ],
      "source": [
        "#1. iki kumenin kesisiminin bos olup olmagini sorgulama:\n",
        "#isdisjoint() Komutu:\n",
        "\n",
        "print(set1.isdisjoint(set2))\n",
        "print(set2.isdisjoint(set1))"
      ]
    },
    {
      "cell_type": "code",
      "execution_count": null,
      "id": "31d93d01",
      "metadata": {
        "id": "31d93d01",
        "outputId": "36368f35-c1f4-4a45-ecb1-581bc103aaa7"
      },
      "outputs": [
        {
          "name": "stdout",
          "output_type": "stream",
          "text": [
            "True\n",
            "False\n"
          ]
        }
      ],
      "source": [
        "#bir kumenin butun elemanlarinin baska bir kume icerisinde yer alip almadigini sorgulama:\n",
        "#issubset() Komutu:\n",
        "\n",
        "print(set1.issubset(set2))\n",
        "print(set2.issubset(set1))"
      ]
    },
    {
      "cell_type": "code",
      "execution_count": null,
      "id": "6af7f242",
      "metadata": {
        "id": "6af7f242",
        "outputId": "381325b8-b412-4f28-8340-c0ec0fc3c6f1"
      },
      "outputs": [
        {
          "name": "stdout",
          "output_type": "stream",
          "text": [
            "False\n",
            "True\n"
          ]
        }
      ],
      "source": [
        "#bir kumenin bir diger kumeyi kapsayip kapsamadigini sorgulama:\n",
        "#issuperset() Komutu:\n",
        "\n",
        "print(set1.issuperset(set2))\n",
        "print(set2.issuperset(set1))"
      ]
    },
    {
      "cell_type": "markdown",
      "id": "70280ba9",
      "metadata": {
        "id": "70280ba9"
      },
      "source": [
        "#### Notlar"
      ]
    },
    {
      "cell_type": "code",
      "execution_count": null,
      "id": "8097690e",
      "metadata": {
        "id": "8097690e",
        "outputId": "65ba0cc7-b352-4f49-c54a-945c7e43cce1"
      },
      "outputs": [
        {
          "data": {
            "text/plain": [
              "'\\n----Listeler----                  \\n* Degistirilebilir\\n* Sirali\\n* Kapsayici\\n'"
            ]
          },
          "execution_count": 145,
          "metadata": {},
          "output_type": "execute_result"
        }
      ],
      "source": [
        "'''\n",
        "----Listeler----\n",
        "* Degistirilebilir\n",
        "* Sirali\n",
        "* Kapsayici\n",
        "'''"
      ]
    },
    {
      "cell_type": "code",
      "execution_count": null,
      "id": "3d4858f8",
      "metadata": {
        "id": "3d4858f8",
        "outputId": "27049c72-9330-4cd9-ce29-86a5c7bdf5c5"
      },
      "outputs": [
        {
          "data": {
            "text/plain": [
              "'\\n----Tuple----\\n* Degistirilemez\\n* Sirali\\n* Kapsayici\\n'"
            ]
          },
          "execution_count": 146,
          "metadata": {},
          "output_type": "execute_result"
        }
      ],
      "source": [
        "'''\n",
        "----Tuple----\n",
        "* Degistirilemez\n",
        "* Sirali\n",
        "* Kapsayici\n",
        "'''"
      ]
    },
    {
      "cell_type": "code",
      "execution_count": null,
      "id": "c9e56e09",
      "metadata": {
        "id": "c9e56e09",
        "outputId": "a18f3e76-1350-4500-a954-81f350a1a29d"
      },
      "outputs": [
        {
          "data": {
            "text/plain": [
              "'\\n----Dictionary----\\n* Degistirilebilir\\n* Sirasiz\\n* Kapsayici\\n'"
            ]
          },
          "execution_count": 147,
          "metadata": {},
          "output_type": "execute_result"
        }
      ],
      "source": [
        "'''\n",
        "----Dictionary----\n",
        "* Degistirilebilen\n",
        "* Sirasiz\n",
        "* Kapsayici\n",
        "'''"
      ]
    },
    {
      "cell_type": "code",
      "execution_count": null,
      "id": "4b0c7152",
      "metadata": {
        "id": "4b0c7152",
        "outputId": "9153f64b-2526-4f96-df29-dd6d5eb846af"
      },
      "outputs": [
        {
          "data": {
            "text/plain": [
              "'\\n----Setler----\\n* Degisebilir\\n* Sirali + Essizdir\\n* Kapsayicidir\\n'"
            ]
          },
          "execution_count": 148,
          "metadata": {},
          "output_type": "execute_result"
        }
      ],
      "source": [
        "'''\n",
        "----Setler----\n",
        "* Degisebilir\n",
        "* Sirali + Essizdir\n",
        "* Kapsayicidir\n",
        "'''"
      ]
    },
    {
      "cell_type": "markdown",
      "id": "e226f1c3",
      "metadata": {
        "id": "e226f1c3"
      },
      "source": [
        "##  **Fonksiyonlara Giris ve Fonksiyon Okuryazarligi**"
      ]
    },
    {
      "cell_type": "code",
      "execution_count": null,
      "id": "69db0779",
      "metadata": {
        "id": "69db0779",
        "outputId": "ac4875ab-8295-41e5-8b22-c5d81ad71e93"
      },
      "outputs": [
        {
          "name": "stdout",
          "output_type": "stream",
          "text": [
            "25\n"
          ]
        }
      ],
      "source": [
        "def kare_al(x):\n",
        "    print(x*x)\n",
        "kare_al(5)"
      ]
    },
    {
      "cell_type": "code",
      "execution_count": null,
      "id": "7e99737c",
      "metadata": {
        "id": "7e99737c",
        "outputId": "031ac323-0bd9-445a-8c7c-f00f451fa605"
      },
      "outputs": [
        {
          "name": "stdout",
          "output_type": "stream",
          "text": [
            "Girilen Sayinin Karesi: 4\n"
          ]
        }
      ],
      "source": [
        "#Bilgi nootuyla cikti almak:\n",
        "def karesi(x):\n",
        "    print('Girilen Sayinin Karesi: ' + str(x**2))\n",
        "karesi(2)"
      ]
    },
    {
      "cell_type": "code",
      "execution_count": null,
      "id": "ccb83362",
      "metadata": {
        "id": "ccb83362",
        "outputId": "ce9e3db5-0f34-41a3-e350-f12da9949640"
      },
      "outputs": [
        {
          "name": "stdout",
          "output_type": "stream",
          "text": [
            "Girilen Sayi:5 Karesi:25\n"
          ]
        }
      ],
      "source": [
        "def kare_alma(x):\n",
        "    print('Girilen Sayi:' + str(x) + ' Karesi:' + str(x**2))\n",
        "\n",
        "kare_alma(5)"
      ]
    },
    {
      "cell_type": "code",
      "execution_count": null,
      "id": "1a79b0f3",
      "metadata": {
        "id": "1a79b0f3",
        "outputId": "5665bddc-e32e-4b88-a735-19c38642d833"
      },
      "outputs": [
        {
          "name": "stdout",
          "output_type": "stream",
          "text": [
            "15\n"
          ]
        }
      ],
      "source": [
        "#On Tanimli Argumanlar:\n",
        "def carpma_yap(x,y=1):\n",
        "    print(x*y)\n",
        "\n",
        "carpma_yap(5,3)"
      ]
    },
    {
      "cell_type": "code",
      "execution_count": null,
      "id": "1b1c4f8d",
      "metadata": {
        "id": "1b1c4f8d",
        "outputId": "7d4d1bc6-2e7a-474a-fe4e-eeac0e327da6"
      },
      "outputs": [
        {
          "name": "stdout",
          "output_type": "stream",
          "text": [
            "Toplama İslemi: 100\n"
          ]
        }
      ],
      "source": [
        "def hesap(islem,sayi1,sayi2):\n",
        "    if islem==1:\n",
        "        print('Toplama İslemi: {}'.format(sayi1+sayi2))\n",
        "hesap(1,37,63)"
      ]
    },
    {
      "cell_type": "code",
      "execution_count": null,
      "id": "e683cfb1",
      "metadata": {
        "id": "e683cfb1",
        "outputId": "d1ebcae0-025a-46ba-c60c-287f8d1a33c4"
      },
      "outputs": [
        {
          "name": "stdout",
          "output_type": "stream",
          "text": [
            "1.4\n"
          ]
        },
        {
          "ename": "TypeError",
          "evalue": "unsupported operand type(s) for *: 'NoneType' and 'int'",
          "output_type": "error",
          "traceback": [
            "\u001b[1;31m---------------------------------------------------------------------------\u001b[0m",
            "\u001b[1;31mTypeError\u001b[0m                                 Traceback (most recent call last)",
            "Input \u001b[1;32mIn [14]\u001b[0m, in \u001b[0;36m<cell line: 5>\u001b[1;34m()\u001b[0m\n\u001b[0;32m      3\u001b[0m \u001b[38;5;28;01mdef\u001b[39;00m \u001b[38;5;21mhesaplama\u001b[39m(isi,nem,sarj):\n\u001b[0;32m      4\u001b[0m     \u001b[38;5;28mprint\u001b[39m((isi\u001b[38;5;241m+\u001b[39mnem)\u001b[38;5;241m/\u001b[39msarj)\n\u001b[1;32m----> 5\u001b[0m \u001b[43mhesaplama\u001b[49m\u001b[43m(\u001b[49m\u001b[38;5;241;43m25\u001b[39;49m\u001b[43m,\u001b[49m\u001b[38;5;241;43m45\u001b[39;49m\u001b[43m,\u001b[49m\u001b[38;5;241;43m50\u001b[39;49m\u001b[43m)\u001b[49m\u001b[38;5;241;43m*\u001b[39;49m\u001b[38;5;241;43m9\u001b[39;49m\n",
            "\u001b[1;31mTypeError\u001b[0m: unsupported operand type(s) for *: 'NoneType' and 'int'"
          ]
        }
      ],
      "source": [
        "#Fonksiyonlarda ciktiyi kullanma:\n",
        "\n",
        "def hesaplama(isi,nem,sarj):\n",
        "    print((isi+nem)/sarj)\n",
        "hesaplama(25,45,50)*9   #goruldugu uzere ciktiyi 9 ile carpmak istedigimizde hata verdi. --> TypeError\n",
        "                        #bu yuzden print yerine return kullanilmalidir."
      ]
    },
    {
      "cell_type": "code",
      "execution_count": null,
      "id": "2e66a2d7",
      "metadata": {
        "id": "2e66a2d7",
        "outputId": "8bf46310-7d2b-461b-8f12-1d923c41c816"
      },
      "outputs": [
        {
          "data": {
            "text/plain": [
              "12.6"
            ]
          },
          "execution_count": 15,
          "metadata": {},
          "output_type": "execute_result"
        }
      ],
      "source": [
        "#Fonksiyonlarda ciktiyi kullanma: 'return'\n",
        "\n",
        "def hesaplama(isi,nem,sarj):\n",
        "    return (isi+nem)/sarj\n",
        "hesaplama(25,45,50)*9    #sorunsuz bir sekilde cikti baska islemlerde kullanildi."
      ]
    },
    {
      "cell_type": "code",
      "execution_count": null,
      "id": "7d2142d6",
      "metadata": {
        "id": "7d2142d6",
        "outputId": "534f872c-6845-4bc3-9385-d693e0b62ad8"
      },
      "outputs": [
        {
          "name": "stdout",
          "output_type": "stream",
          "text": [
            "Degisken Kontrol: y=2\n"
          ]
        },
        {
          "data": {
            "text/plain": [
              "6"
            ]
          },
          "execution_count": 21,
          "metadata": {},
          "output_type": "execute_result"
        }
      ],
      "source": [
        "#Local - Global Degiskenler:\n",
        "\n",
        "x=10\n",
        "y=20\n",
        "def carpma_yap(x=3,y=2):\n",
        "    print('Degisken Kontrol: y={}'.format(y))\n",
        "    return x*y\n",
        "carpma_yap()\n",
        "\n",
        "#goruldugu uzere yukarıda tanimli x ile y isleme hic dahil olmadilar. global degiskenler"
      ]
    },
    {
      "cell_type": "code",
      "execution_count": null,
      "id": "4740c91e",
      "metadata": {
        "id": "4740c91e",
        "outputId": "944e516b-5f0e-4863-b881-1a511e985e25"
      },
      "outputs": [
        {
          "name": "stdout",
          "output_type": "stream",
          "text": [
            "5\n",
            "3\n"
          ]
        }
      ],
      "source": [
        "a=3\n",
        "def function():\n",
        "    a=5\n",
        "    print(a)\n",
        "function() #Buradan cikan sonuc fonksiyon icindeki local degisken a'nın dahil oldugudur.\n",
        "print(a)  #Buradan cikacak sonuc ise global olan a'nın degeridir. ---> 3\n"
      ]
    },
    {
      "cell_type": "code",
      "execution_count": null,
      "id": "8293b4a9",
      "metadata": {
        "id": "8293b4a9",
        "outputId": "fbb7bce4-42c6-4cc2-b807-202ecb48c7a4"
      },
      "outputs": [
        {
          "name": "stdout",
          "output_type": "stream",
          "text": [
            "5 ifadesi eklendi\n"
          ]
        },
        {
          "data": {
            "text/plain": [
              "[5]"
            ]
          },
          "execution_count": 28,
          "metadata": {},
          "output_type": "execute_result"
        }
      ],
      "source": [
        "#Fonksiyon ile bos bir listeye deger atama ornegi:\n",
        "\n",
        "x=[]\n",
        "def eleman_ekle(y):\n",
        "    x.append(y)\n",
        "    print(str(y)+' ifadesi eklendi')\n",
        "eleman_ekle(5)\n",
        "x"
      ]
    },
    {
      "cell_type": "code",
      "execution_count": null,
      "id": "500b8163",
      "metadata": {
        "id": "500b8163",
        "outputId": "6e370c44-8cf1-4274-83b7-b1110468f802"
      },
      "outputs": [
        {
          "name": "stdout",
          "output_type": "stream",
          "text": [
            "veli ifadesi eklendi\n"
          ]
        },
        {
          "data": {
            "text/plain": [
              "[5, 'veli']"
            ]
          },
          "execution_count": 29,
          "metadata": {},
          "output_type": "execute_result"
        }
      ],
      "source": [
        "eleman_ekle('veli')\n",
        "x"
      ]
    },
    {
      "cell_type": "code",
      "execution_count": null,
      "id": "8aa7e5dc",
      "metadata": {
        "id": "8aa7e5dc",
        "outputId": "a13b59f9-f8b6-4c5f-f977-a0088c49c150"
      },
      "outputs": [
        {
          "name": "stdout",
          "output_type": "stream",
          "text": [
            "[1, 2, 3, 4, 5] [1, 4, 9, 16, 25]\n"
          ]
        }
      ],
      "source": [
        "#MAP fonksiyonu:\n",
        "\n",
        "#Bir sayi listesindeki elemanlarin karelerini alarak yeni bir listeye ekleme ornegi:\n",
        "\n",
        "liste=[1,2,3,4,5]\n",
        "liste_kare=[]\n",
        "i=0\n",
        "for i in liste:\n",
        "    liste_kare.append(i**2)\n",
        "print(liste,liste_kare)"
      ]
    },
    {
      "cell_type": "code",
      "execution_count": null,
      "id": "d5c4e678",
      "metadata": {
        "id": "d5c4e678",
        "outputId": "b6029cb9-0435-4e28-963d-96a0d3dff715"
      },
      "outputs": [
        {
          "data": {
            "text/plain": [
              "[1, 4, 9, 16, 25]"
            ]
          },
          "execution_count": 37,
          "metadata": {},
          "output_type": "execute_result"
        }
      ],
      "source": [
        "#Map fonksiyonu yardimiyla yapilisi:\n",
        "\n",
        "liste=[1,2,3,4,5]\n",
        "liste_kare=list(map(lambda x:x**2,liste))\n",
        "liste_kare"
      ]
    },
    {
      "cell_type": "code",
      "execution_count": null,
      "id": "a812b0d4",
      "metadata": {
        "id": "a812b0d4",
        "outputId": "b47dc569-38b9-4d7a-a28c-b72c74129923"
      },
      "outputs": [
        {
          "data": {
            "text/plain": [
              "[1, 2, 2, 228]"
            ]
          },
          "execution_count": 38,
          "metadata": {},
          "output_type": "execute_result"
        }
      ],
      "source": [
        "liste=[3,4,5,456]\n",
        "list(map(lambda x:x//2,liste))"
      ]
    },
    {
      "cell_type": "code",
      "execution_count": null,
      "id": "09e2419d",
      "metadata": {
        "id": "09e2419d",
        "outputId": "92864533-4f67-46f8-ad80-612c56b11cee"
      },
      "outputs": [
        {
          "data": {
            "text/plain": [
              "[-10, -8, -6, -4, -2, 0, 2, 4, 6, 8]"
            ]
          },
          "execution_count": 40,
          "metadata": {},
          "output_type": "execute_result"
        }
      ],
      "source": [
        "#filter() Fonksiyonu:\n",
        "aralik=list(range(-10,10))\n",
        "list(filter(lambda x:x%2==0,aralik))"
      ]
    },
    {
      "cell_type": "code",
      "execution_count": null,
      "id": "a3b90e57",
      "metadata": {
        "id": "a3b90e57",
        "outputId": "1217c0c5-6fac-432c-8e08-f62be5e4696f"
      },
      "outputs": [
        {
          "name": "stdout",
          "output_type": "stream",
          "text": [
            "120\n"
          ]
        }
      ],
      "source": [
        "#reduce() Fonksiyonu:\n",
        "\n",
        "#5! sonucunu bulma ornegi 1\n",
        "\n",
        "sonuc=1\n",
        "liste=[1,2,3,4,5]\n",
        "for i in liste:\n",
        "    sonuc*=i\n",
        "print(sonuc)"
      ]
    },
    {
      "cell_type": "code",
      "execution_count": null,
      "id": "1aca47c7",
      "metadata": {
        "id": "1aca47c7",
        "outputId": "6e54aa4a-e336-45b3-c33c-645f3690f985"
      },
      "outputs": [
        {
          "data": {
            "text/plain": [
              "120"
            ]
          },
          "execution_count": 42,
          "metadata": {},
          "output_type": "execute_result"
        }
      ],
      "source": [
        "#5! sonucunu bulma ornegi 2\n",
        "\n",
        "from functools import reduce\n",
        "liste=[1,2,3,4,5]\n",
        "reduce(lambda sayi1,sayi2:sayi1*sayi2,liste)"
      ]
    },
    {
      "cell_type": "code",
      "execution_count": null,
      "id": "2b615938",
      "metadata": {
        "id": "2b615938",
        "outputId": "5ce48d98-ef73-4719-b4d1-6ae3f729692f"
      },
      "outputs": [
        {
          "name": "stdout",
          "output_type": "stream",
          "text": [
            "Tebrikler! Hediye Kazandiniz...!\n"
          ]
        }
      ],
      "source": [
        "#if - elif - else Fonksiyonları\n",
        "\n",
        "sinir=5000\n",
        "gelir=6000\n",
        "\n",
        "if gelir>sinir:\n",
        "    print('Tebrikler! Hediye Kazandiniz...!')\n",
        "elif gelir<sinir:\n",
        "    print('Uyari!')\n",
        "else:\n",
        "    print('Tekrar Deneyin')"
      ]
    },
    {
      "cell_type": "markdown",
      "id": "3587d2bd",
      "metadata": {
        "id": "3587d2bd"
      },
      "source": [
        "### Donguler"
      ]
    },
    {
      "cell_type": "markdown",
      "id": "9b67bc08",
      "metadata": {
        "id": "9b67bc08"
      },
      "source": [
        "#### I. for Dongusu"
      ]
    },
    {
      "cell_type": "code",
      "execution_count": null,
      "id": "9378f8ff",
      "metadata": {
        "id": "9378f8ff",
        "outputId": "ee97a046-f860-4468-9057-6d701b798f5f"
      },
      "outputs": [
        {
          "name": "stdout",
          "output_type": "stream",
          "text": [
            "Esra\n",
            "Rumeysa\n",
            "Mine\n",
            "Zeynep\n"
          ]
        }
      ],
      "source": [
        "ogrenci=['Esra','Rumeysa','Mine','Zeynep']\n",
        "for i in ogrenci:\n",
        "    print(i)"
      ]
    },
    {
      "cell_type": "code",
      "execution_count": null,
      "id": "19d7fc01",
      "metadata": {
        "id": "19d7fc01",
        "outputId": "ee451013-3481-4270-978d-25342e173c79"
      },
      "outputs": [
        {
          "name": "stdout",
          "output_type": "stream",
          "text": [
            "1200.0\n",
            "2400.0\n",
            "3600.0\n",
            "4800.0\n",
            "6000.0\n"
          ]
        }
      ],
      "source": [
        "#Dongu ve Fonksiyonlari Birlikte Kullanmak:\n",
        "maaslar=[1000,2000,3000,4000,5000]\n",
        "\n",
        "def zamli_maas(x):\n",
        "    print((x*20)/100+x)\n",
        "for i in maaslar:\n",
        "    zamli_maas(i)\n"
      ]
    },
    {
      "cell_type": "code",
      "execution_count": null,
      "id": "2a8ca52a",
      "metadata": {
        "id": "2a8ca52a",
        "outputId": "1c2e0aec-dd0a-45f4-eeaa-6601088575de"
      },
      "outputs": [
        {
          "name": "stdout",
          "output_type": "stream",
          "text": [
            "5500.0\n",
            "1500.0\n",
            "3850.0\n",
            "4400.0\n",
            "2400.0\n"
          ]
        }
      ],
      "source": [
        "#if - for  ve fonksiyonlari birlikte kullanimi:\n",
        "#maasi 3000 den yuksek olanlara %10 zam; maasi 3000 den düsük olanlara %20 zam yapan uygulama:\n",
        "\n",
        "maaslar=[5000,1250,3500,4000,2000]\n",
        "\n",
        "def maas_ust(x):\n",
        "    print(x*10/100+x)\n",
        "def maas_alt(x):\n",
        "    print(x*20/100+x)\n",
        "\n",
        "for i in maaslar:\n",
        "    if i>3000:\n",
        "        maas_ust(i)\n",
        "    else:\n",
        "        maas_alt(i)"
      ]
    },
    {
      "cell_type": "markdown",
      "id": "0e0b235e",
      "metadata": {
        "id": "0e0b235e"
      },
      "source": [
        "#### break"
      ]
    },
    {
      "cell_type": "code",
      "execution_count": null,
      "id": "60fc48b4",
      "metadata": {
        "id": "60fc48b4",
        "outputId": "d5583321-e636-4b72-c8d9-8c7e708a32a4"
      },
      "outputs": [
        {
          "name": "stdout",
          "output_type": "stream",
          "text": [
            "1000\n",
            "1000\n",
            "2000\n",
            "Uyari!\n"
          ]
        }
      ],
      "source": [
        "maaslar=[8000,5000,3000,1000,2000,1000,7000]\n",
        "\n",
        "maaslar.sort()\n",
        "for i in maaslar:\n",
        "    if i==3000:\n",
        "        print('Uyari!')\n",
        "        break\n",
        "    print(i)"
      ]
    },
    {
      "cell_type": "markdown",
      "id": "1cd2e193",
      "metadata": {
        "id": "1cd2e193"
      },
      "source": [
        "#### continue"
      ]
    },
    {
      "cell_type": "code",
      "execution_count": null,
      "id": "c683dcfa",
      "metadata": {
        "id": "c683dcfa",
        "outputId": "50c580da-fe6e-4437-812a-bd951c6f5c4f"
      },
      "outputs": [
        {
          "name": "stdout",
          "output_type": "stream",
          "text": [
            "1000\n",
            "1000\n",
            "2000\n",
            "Uyari!\n",
            "5000\n",
            "7000\n",
            "8000\n"
          ]
        }
      ],
      "source": [
        "#continue istenilen değere gelince onu atlayıp çalışmya devam etmeye yarar.\n",
        "for i in maaslar:\n",
        "    if i==3000:\n",
        "        print('Uyari!')\n",
        "        continue\n",
        "    print(i)"
      ]
    },
    {
      "cell_type": "markdown",
      "id": "ad3e66b0",
      "metadata": {
        "id": "ad3e66b0"
      },
      "source": [
        "#### II. while Dongusu"
      ]
    },
    {
      "cell_type": "code",
      "execution_count": null,
      "id": "c2b9d19f",
      "metadata": {
        "id": "c2b9d19f",
        "outputId": "9247fe9f-e036-490f-83aa-9fc6197ea3c1"
      },
      "outputs": [
        {
          "name": "stdout",
          "output_type": "stream",
          "text": [
            "1\n",
            "2\n",
            "3\n",
            "4\n",
            "5\n",
            "6\n",
            "7\n",
            "8\n"
          ]
        }
      ],
      "source": [
        "#while -e kadar anlamı tasir.\n",
        "\n",
        "sayi=1\n",
        "while sayi<9:\n",
        "    print(sayi)\n",
        "    sayi+=1"
      ]
    },
    {
      "cell_type": "code",
      "execution_count": null,
      "id": "0dc4468f",
      "metadata": {
        "id": "0dc4468f",
        "outputId": "dd338b3d-fe46-4c61-9177-ae014e528ddc"
      },
      "outputs": [
        {
          "name": "stdout",
          "output_type": "stream",
          "text": [
            "index no: 0 --------> Deger: 47\n",
            "index no: 1 --------> Deger: 25\n",
            "index no: 2 --------> Deger: 100\n",
            "Alarm!\n"
          ]
        }
      ],
      "source": [
        "#while ornegi devam\n",
        "s=[47,25,100]\n",
        "i=0\n",
        "while i<len(s):\n",
        "    print('index no: {} --------> Deger: {}'.format(i,s[i]))\n",
        "    if s[i]>=100:\n",
        "        print('Alarm!')\n",
        "    i+=1"
      ]
    },
    {
      "cell_type": "markdown",
      "id": "0aa3ba71",
      "metadata": {
        "id": "0aa3ba71"
      },
      "source": [
        "#### *Notlar (range)*"
      ]
    },
    {
      "cell_type": "code",
      "execution_count": null,
      "id": "5de6c512",
      "metadata": {
        "id": "5de6c512",
        "outputId": "210a862c-ad6c-4f46-cf7d-18a6c977287f"
      },
      "outputs": [
        {
          "name": "stdout",
          "output_type": "stream",
          "text": [
            "0\n",
            "1\n",
            "2\n"
          ]
        }
      ],
      "source": [
        "for i in range(3):   #0 ile 3'e kadar 3 dahil değil demek.\n",
        "    print(i)"
      ]
    },
    {
      "cell_type": "code",
      "execution_count": null,
      "id": "4ec26c53",
      "metadata": {
        "id": "4ec26c53",
        "outputId": "30e91a4a-2253-44e4-9538-b4718e07b1b1"
      },
      "outputs": [
        {
          "name": "stdout",
          "output_type": "stream",
          "text": [
            "0 3 6 9 12 15 18\n"
          ]
        }
      ],
      "source": [
        "print(*range(0,20,3))  #0'dan 20'ye kadar 3'er yaz demek."
      ]
    },
    {
      "cell_type": "markdown",
      "id": "cbef95be",
      "metadata": {
        "id": "cbef95be"
      },
      "source": [
        "## **Questions**"
      ]
    },
    {
      "cell_type": "markdown",
      "id": "36ff4c65",
      "metadata": {
        "id": "36ff4c65"
      },
      "source": [
        "### 1. Oyuncu Kaydetme Programi"
      ]
    },
    {
      "cell_type": "markdown",
      "id": "3cf64f36",
      "metadata": {
        "id": "3cf64f36"
      },
      "source": [
        "Bir basit bir oyun için oyunucunun ismi, soyismi, takımı gibi bilgileri içerdiği\n",
        "bir oyuncu kaydetme programı yazınız.\n",
        "\n",
        "---\n",
        "Information : Giriş yapan kullanıcıya print ile bilgi verilir.\n",
        "Kullanıcıdan veri almak için input fonksiyonu kullanılır."
      ]
    },
    {
      "cell_type": "code",
      "execution_count": null,
      "id": "2931f2dc",
      "metadata": {
        "id": "2931f2dc",
        "outputId": "4e73ac2f-603b-46af-97da-feade7adf23e"
      },
      "outputs": [
        {
          "name": "stdout",
          "output_type": "stream",
          "text": [
            "-----**** Oyuncu Kaydetme Programi****-----\n",
            "Oyuncu Adi Giriniz: Esra\n",
            "Oyuncu Soyadi Giriniz: Akdas\n",
            "Oyuncu Takimi Giriniz: FB\n",
            "\n",
            "Bilgiler basarili bir sekilde kaydedildi....\n",
            "Oyuncu Adı: Esra \n",
            "Oyuncu Soyadi: Akdas \n",
            "Takim: FB\n"
          ]
        }
      ],
      "source": [
        "print('-----**** Oyuncu Kaydetme Programi****-----')\n",
        "\n",
        "adi=input('Oyuncu Adi Giriniz: ')\n",
        "soyad=input('Oyuncu Soyadi Giriniz: ')\n",
        "takim=input('Oyuncu Takimi Giriniz: ')\n",
        "bilgiler=[adi,soyad,takim]\n",
        "print('\\nBilgiler basarili bir sekilde kaydedildi....')\n",
        "\n",
        "print('Oyuncu Adı: {} \\nOyuncu Soyadi: {} \\nTakim: {}'.format(bilgiler[0],bilgiler[1],bilgiler[2]))"
      ]
    },
    {
      "cell_type": "code",
      "execution_count": null,
      "id": "17711fbf",
      "metadata": {
        "id": "17711fbf",
        "outputId": "bc4c3ecb-0533-4575-8a3d-f5266a74875f"
      },
      "outputs": [
        {
          "name": "stdout",
          "output_type": "stream",
          "text": [
            "Oyuncu Adi: Esra \n",
            "Oyuncu Soyadi: Akdas \n",
            "Takim: FB\n"
          ]
        }
      ],
      "source": [
        "#print içinde format kullanımının diger yolu:\n",
        "\n",
        "print(f'Oyuncu Adi: {bilgiler[0]} \\nOyuncu Soyadi: {bilgiler[1]} \\nTakim: {bilgiler[2]}')"
      ]
    },
    {
      "cell_type": "markdown",
      "id": "24d1a7fc",
      "metadata": {
        "id": "24d1a7fc"
      },
      "source": [
        "### **2. Kok Bulma Programi**"
      ]
    },
    {
      "cell_type": "code",
      "execution_count": null,
      "id": "08d314bb",
      "metadata": {
        "id": "08d314bb"
      },
      "outputs": [],
      "source": [
        "Information :\n",
        "2.dereceden bir bilinmeyenli denklemin köklerini bulma\n",
        "Denklem : ax^2 + bx + c\n",
        "Deltayı Hesaplama: b ** 2 - 4 * a * c\n",
        "Birinci Kök : (-b - delta ** 0.5) / (2*a)\n",
        "İkinci Kök : (-b + delta ** 0.5) / (2*a)"
      ]
    },
    {
      "cell_type": "code",
      "execution_count": null,
      "id": "d44e3435",
      "metadata": {
        "id": "d44e3435",
        "outputId": "7f9aa8aa-888e-4441-8c5c-3a65d30e6971"
      },
      "outputs": [
        {
          "name": "stdout",
          "output_type": "stream",
          "text": [
            "_____İkinici Dereceden Denklemin Koklerini Bulma Programi_____\n",
            "Denklemin a Degerini Giriniz: 2\n",
            "Denklemin b Degerini Giriniz: 3\n",
            "Denklemin c Degerini Giriniz: 5\n",
            "Birinci Kok:  (-0.7500000000000001-1.3919410907075054j)\n",
            "\n",
            "İkinci Kok:  (-0.7499999999999999+1.3919410907075054j)\n"
          ]
        }
      ],
      "source": [
        "print('_____İkinici Dereceden Denklemin Koklerini Bulma Programi_____')\n",
        "a=int(input('Denklemin a Degerini Giriniz: '))\n",
        "b=int(input('Denklemin b Degerini Giriniz: '))\n",
        "c=int(input('Denklemin c Degerini Giriniz: '))\n",
        "\n",
        "#denklem=ax^2+bx+c\n",
        "\n",
        "delta=b**2-4*a*c\n",
        "\n",
        "x1=(-b-delta**0.5)/(2*a)\n",
        "x2=(-b+delta**0.5)/(2*a)\n",
        "\n",
        "print('Birinci Kok: ',x1)\n",
        "print('\\nİkinci Kok: ',x2)"
      ]
    },
    {
      "cell_type": "markdown",
      "id": "a73003ce",
      "metadata": {
        "id": "a73003ce"
      },
      "source": [
        "### **3. Uc Sayının Carpiminin Format Metodu Kullanarak Ekrana Yazilmasi**"
      ]
    },
    {
      "cell_type": "markdown",
      "id": "6cb8eff0",
      "metadata": {
        "id": "6cb8eff0"
      },
      "source": [
        "Kullanıcıdan aldığınız 3 tane sayıyı çarparak ekrana yazdırın.\n",
        "Ekrana yazdırma işlemini format metoduyla yapmaya çalışın."
      ]
    },
    {
      "cell_type": "code",
      "execution_count": null,
      "id": "856ecbae",
      "metadata": {
        "id": "856ecbae",
        "outputId": "12714548-aed5-44c7-f543-df4a33ea9cc0"
      },
      "outputs": [
        {
          "name": "stdout",
          "output_type": "stream",
          "text": [
            "Birinci Sayiyi Giriniz: 5\n",
            "İkinci Sayiyi Giriniz: 3\n",
            "Ucuncu Sayiyi Giriniz: 4\n",
            "5 x 3 x 4 = 60\n"
          ]
        }
      ],
      "source": [
        "a=int(input('Birinci Sayiyi Giriniz: '))\n",
        "b=int(input('İkinci Sayiyi Giriniz: '))\n",
        "c=int(input('Ucuncu Sayiyi Giriniz: '))\n",
        "\n",
        "print('{} x {} x {} = {}'.format(a,b,c,a*b*c))\n"
      ]
    },
    {
      "cell_type": "markdown",
      "id": "75abfa56",
      "metadata": {
        "id": "75abfa56"
      },
      "source": [
        "### **4. Beden Kitle Endeksi Hesaplama**"
      ]
    },
    {
      "cell_type": "markdown",
      "id": "4f130c51",
      "metadata": {
        "id": "4f130c51"
      },
      "source": [
        "Kullanıcıdan aldığınız boy ve kilo değerlerine göre kullanıcının beden kitle indeksini bulun.\n",
        "Beden Kitle İndeksi : Kilo / Boy(m)*Boy(m)"
      ]
    },
    {
      "cell_type": "code",
      "execution_count": null,
      "id": "1d39d318",
      "metadata": {
        "id": "1d39d318",
        "outputId": "4902cf6e-18b1-43ea-a319-b61aba10c5fe"
      },
      "outputs": [
        {
          "name": "stdout",
          "output_type": "stream",
          "text": [
            "Boyunuzu metre cinsinden giriniz: 1.67\n",
            "Kilonuzu giriniz:65\n",
            "Beden Kitle Endeksi: 23.306680053067517\n"
          ]
        }
      ],
      "source": [
        "boy=float(input('Boyunuzu metre cinsinden giriniz: '))\n",
        "kilo=int(input('Kilonuzu giriniz:'))\n",
        "\n",
        "bke=kilo/(boy*boy)\n",
        "\n",
        "print('Beden Kitle Endeksi: {}'.format(bke))"
      ]
    },
    {
      "cell_type": "markdown",
      "id": "839a91df",
      "metadata": {
        "id": "839a91df"
      },
      "source": [
        "### **5. Arac - Yakit - Km Hesabi**"
      ]
    },
    {
      "cell_type": "markdown",
      "id": "6c66eb7a",
      "metadata": {
        "id": "6c66eb7a"
      },
      "source": [
        "Bir aracın kilometrede ne kadar yaktığı ve kaç kilometre yol yaptığı\n",
        "bilgilerini alın ve sürücünü toplam ne kadar ödemesini gerektiğini hesaplayın."
      ]
    },
    {
      "cell_type": "code",
      "execution_count": null,
      "id": "0da77d28",
      "metadata": {
        "id": "0da77d28",
        "outputId": "902c3084-e810-498a-ac6c-98dc4a3d3961"
      },
      "outputs": [
        {
          "name": "stdout",
          "output_type": "stream",
          "text": [
            "Km.de Ne Kadar Yakiyor: 3.15\n",
            "Kac km Yol Yapildi: 9300\n",
            "Yapilan Masraf: 29295.0\n"
          ]
        }
      ],
      "source": [
        "km_yakit=float(input('Km.de Ne Kadar Yakiyor: '))\n",
        "km_yol=int(input('Kac km Yol Yapildi: '))\n",
        "\n",
        "odeme=km_yakit*km_yol\n",
        "\n",
        "print('Yapilan Masraf: {}'.format(odeme))"
      ]
    },
    {
      "cell_type": "markdown",
      "id": "8438eab9",
      "metadata": {
        "id": "8438eab9"
      },
      "source": [
        "### **6. Kullanici Bilgisi Girisi**"
      ]
    },
    {
      "cell_type": "markdown",
      "id": "3531ff8b",
      "metadata": {
        "id": "3531ff8b"
      },
      "source": [
        "Kullanıcıdan ad,soyad ve numara bilgisini alarak bunları alt alta ekrana yazdırın."
      ]
    },
    {
      "cell_type": "code",
      "execution_count": null,
      "id": "51d5d01c",
      "metadata": {
        "id": "51d5d01c",
        "outputId": "13f41d5c-d917-4a14-921e-928afb21344f"
      },
      "outputs": [
        {
          "name": "stdout",
          "output_type": "stream",
          "text": [
            "Kullanici Adi Giriniz: Esra\n",
            "Kullanici Soyadi Giriniz: Akdas\n",
            "Kullanici Numaranizi Giriniz: 37\n",
            "\n",
            "\n",
            "Kullanici Adi: Esra \n",
            "Kullanici Soyadi: Akdas \n",
            "Kullanici Nu: 37\n"
          ]
        }
      ],
      "source": [
        "adi=input('Kullanici Adi Giriniz: ')\n",
        "soyadi=input('Kullanici Soyadi Giriniz: ')\n",
        "nu=int(input('Kullanici Numaranizi Giriniz: '))\n",
        "\n",
        "print('\\n\\nKullanici Adi: {} \\nKullanici Soyadi: {} \\nKullanici Nu: {}'.format(adi,soyadi,nu))"
      ]
    },
    {
      "cell_type": "markdown",
      "id": "ba2b3ebe",
      "metadata": {
        "id": "ba2b3ebe"
      },
      "source": [
        "### **7. İki Sayinin Degerlerini Degistirme**"
      ]
    },
    {
      "cell_type": "markdown",
      "id": "318fcf39",
      "metadata": {
        "id": "318fcf39"
      },
      "source": [
        "Kullanıcıdan iki tane sayı isteyin ve bu sayıların değerlerini birbirleriyle değiştirin."
      ]
    },
    {
      "cell_type": "code",
      "execution_count": null,
      "id": "695089e5",
      "metadata": {
        "scrolled": true,
        "id": "695089e5",
        "outputId": "edb414f0-199b-4f5a-84b3-7aa1dcc25520"
      },
      "outputs": [
        {
          "name": "stdout",
          "output_type": "stream",
          "text": [
            "Birinci Sayiyi Giriniz: 6\n",
            "İkinci Sayiyi Giriniz: 3\n",
            "\n",
            "\n",
            "Degisen Birinci Sayi: 3 \n",
            "Degisen İkinci Sayi: 6\n"
          ]
        }
      ],
      "source": [
        "sayi1=int(input('Birinci Sayiyi Giriniz: '))\n",
        "sayi2=int(input('İkinci Sayiyi Giriniz: '))\n",
        "\n",
        "x = sayi1\n",
        "sayi1=sayi2\n",
        "sayi2=x\n",
        "\n",
        "print('\\n\\nDegisen Birinci Sayi: {} \\nDegisen İkinci Sayi: {}'.format(sayi1,sayi2))"
      ]
    },
    {
      "cell_type": "code",
      "execution_count": null,
      "id": "d692c91b",
      "metadata": {
        "id": "d692c91b",
        "outputId": "d4f5c959-39c0-45a0-883f-7317b92496fc"
      },
      "outputs": [
        {
          "name": "stdout",
          "output_type": "stream",
          "text": [
            "Birinci Sayiyi Giriniz: 6\n",
            "İkinci Sayiyi Giriniz: 3\n",
            "\n",
            "\n",
            "Degisen Birinci Sayi: 3 \n",
            "Degisen İkinci Sayi: 6\n"
          ]
        }
      ],
      "source": [
        "#2. Yol\n",
        "sayi1=int(input('Birinci Sayiyi Giriniz: '))\n",
        "sayi2=int(input('İkinci Sayiyi Giriniz: '))\n",
        "sayi1,sayi2=sayi2,sayi1\n",
        "print('\\n\\nDegisen Birinci Sayi: {} \\nDegisen İkinci Sayi: {}'.format(sayi1,sayi2))"
      ]
    },
    {
      "cell_type": "markdown",
      "id": "8189492c",
      "metadata": {
        "id": "8189492c"
      },
      "source": [
        "### **8. Dik Ucgende Hipotenus Hesabi**"
      ]
    },
    {
      "cell_type": "markdown",
      "id": "d8285f70",
      "metadata": {
        "id": "d8285f70"
      },
      "source": [
        "Kullanıcıdan bir dik üçgenin dik olan iki kenarını(a,b) alın ve hipotenüs uzunluğunu bulmaya çalışın.\n",
        "Hipotenüs Formülü: a^2 + b^2 = c^2"
      ]
    },
    {
      "cell_type": "code",
      "execution_count": null,
      "id": "ea2cceab",
      "metadata": {
        "id": "ea2cceab",
        "outputId": "d33446b4-d255-4297-ead1-c39967a35a03"
      },
      "outputs": [
        {
          "name": "stdout",
          "output_type": "stream",
          "text": [
            "Birinci Kenari Giriniz: 3\n",
            "İkinci Kenari Giriniz: 4\n",
            "Hipotenus:  5\n"
          ]
        }
      ],
      "source": [
        "kenar1=int(input('Birinci Kenari Giriniz: '))\n",
        "kenar2=int(input('İkinci Kenari Giriniz: '))\n",
        "\n",
        "h=(kenar1**2)+(kenar2**2)\n",
        "hipo=h**0.5\n",
        "print('Hipotenus: ',int(hipo))"
      ]
    },
    {
      "cell_type": "markdown",
      "id": "96289981",
      "metadata": {
        "id": "96289981"
      },
      "source": [
        "#### *NOT*"
      ]
    },
    {
      "cell_type": "code",
      "execution_count": null,
      "id": "3c725aa5",
      "metadata": {
        "id": "3c725aa5",
        "outputId": "396ad04b-c037-44ab-e607-3f07eb66b2e7"
      },
      "outputs": [
        {
          "data": {
            "text/plain": [
              "True"
            ]
          },
          "execution_count": 16,
          "metadata": {},
          "output_type": "execute_result"
        }
      ],
      "source": [
        "'ahmet'<'memet'  #harfler alfabetik siraya bakilarak True-False sonuc verir."
      ]
    },
    {
      "cell_type": "code",
      "execution_count": null,
      "id": "2c983cc0",
      "metadata": {
        "id": "2c983cc0",
        "outputId": "784c40ed-73fc-457d-9a08-df073fa4daa3"
      },
      "outputs": [
        {
          "data": {
            "text/plain": [
              "True"
            ]
          },
          "execution_count": 18,
          "metadata": {},
          "output_type": "execute_result"
        }
      ],
      "source": [
        "not(2.14 > 3.49 or ( 2 != 2 and \"Murat\" == \"Murat\")) #not tersi demek"
      ]
    },
    {
      "cell_type": "code",
      "execution_count": null,
      "id": "c51ae3c2",
      "metadata": {
        "id": "c51ae3c2",
        "outputId": "8d9f9c4a-877b-4337-cc54-29c1d139e845"
      },
      "outputs": [
        {
          "name": "stdout",
          "output_type": "stream",
          "text": [
            "İzin Saglandi...\n"
          ]
        }
      ],
      "source": [
        "getAccess=True\n",
        "\n",
        "if (not getAccess):\n",
        "    print('Giris İzniniz Bulunamadi...')\n",
        "else:\n",
        "    print('İzin Saglandi...')"
      ]
    },
    {
      "cell_type": "markdown",
      "id": "56a26414",
      "metadata": {
        "id": "56a26414"
      },
      "source": [
        "### **9. Girilen Sayinin Durumu**"
      ]
    },
    {
      "cell_type": "markdown",
      "id": "8b0a31b9",
      "metadata": {
        "id": "8b0a31b9"
      },
      "source": [
        "Uygulama : Kullanıcıdan alınan bir sayının 0,\n",
        "pozitif bir sayı ve negatif bir sayı olduğunu tespit eden program yazınız."
      ]
    },
    {
      "cell_type": "code",
      "execution_count": null,
      "id": "f5918aaf",
      "metadata": {
        "id": "f5918aaf",
        "outputId": "ccc712ba-9bc5-4228-cb72-34628784c9f8"
      },
      "outputs": [
        {
          "name": "stdout",
          "output_type": "stream",
          "text": [
            "Lutfen Sayinizi Giriniz: -5\n",
            "Girilen sayi Negatif Bir Sayidir.\n"
          ]
        }
      ],
      "source": [
        "sayi=int(input('Lutfen Sayinizi Giriniz: '))\n",
        "\n",
        "if sayi==0:\n",
        "    print('Girilen Sayi Degeri Sifirdir (0)')\n",
        "elif sayi>0:\n",
        "    print('Girilen Sayi Pozitif Bir Sayidir.')\n",
        "else:\n",
        "    print('Girilen sayi Negatif Bir Sayidir.')"
      ]
    },
    {
      "cell_type": "markdown",
      "id": "eee4291f",
      "metadata": {
        "id": "eee4291f"
      },
      "source": [
        "### **10. Basit Bir Hesap Makinesi Yapiniz**"
      ]
    },
    {
      "cell_type": "code",
      "execution_count": null,
      "id": "307923bd",
      "metadata": {
        "id": "307923bd",
        "outputId": "42520012-472a-482c-ab98-73ec09522409"
      },
      "outputs": [
        {
          "name": "stdout",
          "output_type": "stream",
          "text": [
            "\n",
            "---------.´´Hesap Makinesine Hosgeldiniz´´.----------\n",
            "\n",
            "Lutfen Yapacaginiz İslemi Seciniz:\n",
            "1. Toplama İslemi\n",
            "2. Cikarma İslemi\n",
            "3. Carpma İslemi\n",
            "4. Bolme İslemi\n",
            "\n",
            "Lutfen yapmak istediginiz islemi seciniz: 3\n",
            "Carpma İslemi Secildi...\n",
            "\n",
            "Birinci Sayiyi Giriniz: 896\n",
            "İkinci Sayiyi Giriniz: 654\n",
            "Sonuc= 585984\n"
          ]
        }
      ],
      "source": [
        "print('''\n",
        "---------.´´Hesap Makinesine Hosgeldiniz´´.----------\n",
        "\n",
        "Lutfen Yapacaginiz İslemi Seciniz:\n",
        "1. Toplama İslemi\n",
        "2. Cikarma İslemi\n",
        "3. Carpma İslemi\n",
        "4. Bolme İslemi\n",
        "''')\n",
        "\n",
        "islem=int(input('Lutfen yapmak istediginiz islemi seciniz: '))\n",
        "if islem ==1:\n",
        "    print('Toplama İslemi Secildi...')\n",
        "    sayi1=int(input('\\nBirinci Sayiyi Giriniz: '))\n",
        "    sayi2=int(input('İkinci Sayiyi Giriniz: '))\n",
        "    print('Sonuc= {}'.format(sayi1+sayi2))\n",
        "elif islem==2:\n",
        "    print('Cikarma İslemi Secildi...')\n",
        "    sayi1=int(input('\\nBirinci Sayiyi Giriniz: '))\n",
        "    sayi2=int(input('İkinci Sayiyi Giriniz: '))\n",
        "    print('Sonuc= {}'.format(sayi1-sayi2))\n",
        "elif islem==3:\n",
        "    print('Carpma İslemi Secildi...')\n",
        "    sayi1=int(input('\\nBirinci Sayiyi Giriniz: '))\n",
        "    sayi2=int(input('İkinci Sayiyi Giriniz: '))\n",
        "    print('Sonuc= {}'.format(sayi1*sayi2))\n",
        "elif islem==4:\n",
        "    print('Bolme İslemi Secildi...')\n",
        "    sayi1=int(input('\\nBirinci Sayiyi Giriniz: '))\n",
        "    sayi2=int(input('İkinci Sayiyi Giriniz: '))\n",
        "    print('Sonuc= {}'.format(sayi1/sayi2))"
      ]
    },
    {
      "cell_type": "markdown",
      "id": "5d0835a7",
      "metadata": {
        "id": "5d0835a7"
      },
      "source": [
        "### **11. Kullanici Giris Ekrani Tasarlanmasi**"
      ]
    },
    {
      "cell_type": "markdown",
      "id": "72b76986",
      "metadata": {
        "id": "72b76986"
      },
      "source": [
        "* Kullanıcı adınız hatalı\n",
        "* Şifreniz hatalı\n",
        "* Bilgileriniz hatalı\n",
        "* Giriş yapıldı"
      ]
    },
    {
      "cell_type": "code",
      "execution_count": null,
      "id": "e71e0bf6",
      "metadata": {
        "id": "e71e0bf6",
        "outputId": "8575565a-8e68-402b-8517-b33692c9426b"
      },
      "outputs": [
        {
          "name": "stdout",
          "output_type": "stream",
          "text": [
            "Kullanici Adi Gİriniz: mchty\n",
            "Kullanici Parolanizi Giriniz: 12121212\n",
            "\n",
            "Basarili Bir Sekilde Giris Yapildi...\n"
          ]
        }
      ],
      "source": [
        "sys_kul_adi='mchty'\n",
        "sys_pass=12121212\n",
        "\n",
        "kullanici_adi=input('Kullanici Adi Gİriniz: ')\n",
        "kullanici_sifre=int(input('Kullanici Parolanizi Giriniz: '))\n",
        "\n",
        "if (sys_kul_adi!=kullanici_adi and sys_pass==kullanici_sifre):\n",
        "    print('\\nKullanici Adi Hatali')\n",
        "elif (sys_kul_adi==kullanici_adi and sys_pass!=kullanici_sifre):\n",
        "    print('\\nKullanici Sifreniz Hatali')\n",
        "elif (sys_kul_adi!=kullanici_adi and sys_pass!=kullanici_sifre):\n",
        "    print('\\nKullanici Bilgileriniz Hatali')\n",
        "else:\n",
        "    print('\\nBasarili Bir Sekilde Giris Yapildi...')"
      ]
    },
    {
      "cell_type": "markdown",
      "id": "49b4297e",
      "metadata": {
        "id": "49b4297e"
      },
      "source": [
        "### **12. Beden Kitle Endeksi Ve Karsiliklari**"
      ]
    },
    {
      "cell_type": "markdown",
      "id": "d66d10b2",
      "metadata": {
        "id": "d66d10b2"
      },
      "source": [
        "Kullanıcıdan alınan boy ve kilo değerlerine göre beden kitle indeksini hesaplayın ve şu kurallara göre ekrana şu yazıları yazdırın.\n",
        "\n",
        "* Beden Kitle İndeksi: Kilo / Boy(m) * Boy(m)\n",
        "* BKİ 18.5'un altındaysa -------> Zayıf\n",
        "* BKİ 18.5 ile 25 arasındaysa ------> Normal\n",
        "* BKİ 25 ile 30 arasındaysa --------> Fazla Kilolu\n",
        "* BKİ 30'un üstündeyse -------------> Obez"
      ]
    },
    {
      "cell_type": "code",
      "execution_count": null,
      "id": "656a1556",
      "metadata": {
        "id": "656a1556",
        "outputId": "a85f0430-54dd-4aef-9d81-3cae4ca32a18"
      },
      "outputs": [
        {
          "name": "stdout",
          "output_type": "stream",
          "text": [
            "Lütfen Boyunuzu m Cinsinden Giriniz: 1.67\n",
            "Lütfen Kilonuzu kg Cinsinden Giriniz: 65\n",
            "Normal\n"
          ]
        }
      ],
      "source": [
        "boy =float(input('Lütfen Boyunuzu m Cinsinden Giriniz: '))\n",
        "kilo=float(input('Lütfen Kilonuzu kg Cinsinden Giriniz: '))\n",
        "bke=kilo/(boy*boy)\n",
        "if bke<18.5:\n",
        "    print('Zayıf')\n",
        "elif (bke>18.5 and bke<25):\n",
        "    print('Normal')\n",
        "elif (bke>25 and bke<30):\n",
        "    print('Fazla Kilolu')\n",
        "elif bke>30:\n",
        "    print('Obez!')"
      ]
    },
    {
      "cell_type": "markdown",
      "id": "af30ae03",
      "metadata": {
        "id": "af30ae03"
      },
      "source": [
        "### **13. Uc Sayidan En Buyuk Olani Bulan Program**"
      ]
    },
    {
      "cell_type": "markdown",
      "id": "507dc18b",
      "metadata": {
        "id": "507dc18b"
      },
      "source": [
        "Kullanıcıdan 3 tane sayı alın ve en büyük sayıyı ekrana yazdırın."
      ]
    },
    {
      "cell_type": "code",
      "execution_count": null,
      "id": "0bb7be1d",
      "metadata": {
        "id": "0bb7be1d",
        "outputId": "7e3900d9-84e6-45bf-e1f9-cbdea9be3e74"
      },
      "outputs": [
        {
          "name": "stdout",
          "output_type": "stream",
          "text": [
            "Birinci Sayiyi Giriniz: 2\n",
            "İkinci Sayiyi Giriniz: 5\n",
            "Ucuncu Sayiyi Giriniz: 12\n",
            "Buyuk Sayi: 12\n"
          ]
        }
      ],
      "source": [
        "sayi1=int(input('Birinci Sayiyi Giriniz: '))\n",
        "sayi2=int(input('İkinci Sayiyi Giriniz: '))\n",
        "sayi3=int(input('Ucuncu Sayiyi Giriniz: '))\n",
        "\n",
        "if (sayi1>=sayi2 and sayi1>=sayi3):\n",
        "    print('Buyuk Sayi: {}'.format(sayi1))\n",
        "elif (sayi2>=sayi1 and sayi2>=sayi3):\n",
        "    print('Buyuk Sayi: {}'.format(sayi2))\n",
        "elif (sayi3>=sayi1 and sayi3>=sayi2):\n",
        "    print('Buyuk Sayi: {}'.format(sayi3))"
      ]
    },
    {
      "cell_type": "markdown",
      "id": "28b1ef5f",
      "metadata": {
        "id": "28b1ef5f"
      },
      "source": [
        "### **14. Harf Notu Hesaplama**"
      ]
    },
    {
      "cell_type": "markdown",
      "id": "32e93469",
      "metadata": {
        "id": "32e93469"
      },
      "source": [
        "Kullanıcının girdiği vize1,vize2,final notlarına notlarına göre harf notunu hesaplayın.\n",
        "\n",
        "Vize1 toplam notun %30'una etki edecek.\n",
        "\n",
        "Vize2 toplam notun %30'una etki edecek.\n",
        "\n",
        "Final toplam notun %40'ına etki edecek.\n",
        "\n",
        "\n",
        "* Toplam Not >=  90 -----> AA\n",
        "* Toplam Not >=  85 -----> BA\n",
        "* Toplam Not >=  80 -----> BB\n",
        "* Toplam Not >=  75 -----> CB\n",
        "* Toplam Not >=  70 -----> CC\n",
        "* Toplam Not >=  65 -----> DC\n",
        "* Toplam Not >=  60 -----> DD\n",
        "* Toplam Not >=  55 -----> FD\n",
        "* Toplam Not <  55 -----> FF"
      ]
    },
    {
      "cell_type": "code",
      "execution_count": null,
      "id": "a15fc9d1",
      "metadata": {
        "id": "a15fc9d1",
        "outputId": "ab9898be-b24d-4f1b-ddc9-af456dba9e97"
      },
      "outputs": [
        {
          "name": "stdout",
          "output_type": "stream",
          "text": [
            "1. Vize Notunu Giriniz: 50\n",
            "2. Vize Notunu Giriniz: 20\n",
            "Final Notunu Giriniz: 10\n",
            "FF\n"
          ]
        }
      ],
      "source": [
        "vize1=int(input('1. Vize Notunu Giriniz: '))\n",
        "vize2=int(input('2. Vize Notunu Giriniz: '))\n",
        "final=int(input('Final Notunu Giriniz: '))\n",
        "\n",
        "gano=(vize1*0.3)+(vize2*0.3)+(final*0.4)\n",
        "\n",
        "if gano>=90:\n",
        "    print('AA')\n",
        "elif gano>=85:\n",
        "    print('BA')\n",
        "elif gano>=80:\n",
        "    print('BB')\n",
        "elif gano>=75:\n",
        "    print('CB')\n",
        "elif gano>=70:\n",
        "    print('CB')\n",
        "elif gano>=65:\n",
        "    print('CC')\n",
        "elif gano>=60:\n",
        "    print('DC')\n",
        "elif gano>=55:\n",
        "    print('DD')\n",
        "elif gano>=50:\n",
        "    print('FD')\n",
        "else:\n",
        "    print('FF')\n",
        "\n"
      ]
    },
    {
      "cell_type": "markdown",
      "id": "92d75650",
      "metadata": {
        "id": "92d75650"
      },
      "source": [
        "### **15. Geometrik Sekil Hesaplama Programı**"
      ]
    },
    {
      "cell_type": "markdown",
      "id": "f06a427b",
      "metadata": {
        "id": "f06a427b"
      },
      "source": [
        "Şimdi de geometrik şekil hesaplama işlemi yapalım. İlk olarak kullanıcıdan üçgenin mi dörtgenin mi tipini bulmak istediğini sorun.\n",
        "\n",
        "Eğer kullanıcı \"Dörtgen\" cevabını verirse , 4 tane kenar isteyip bu dörtgenin kare mi , dikdörtgen mi yoksa sıradan bir dörtgen mi olduğunu bulmaya çalışın.\n",
        "\n",
        "Eğer kullanıcı \"Üçgen\" cevabını verirse , 3 tane kenar isteyip bu üçgenin ikizkenar mı , eşkenar mı yoksa sıradan bir üçgen mi olduğunu bulmaya çalışın. Eğer verilen kenarlar bir üçgen belirtmiyorsa, ekrana \"Üçgen belirtmiyor\" şeklinde bir yazı yazın"
      ]
    },
    {
      "cell_type": "code",
      "execution_count": null,
      "id": "7c72d4e7",
      "metadata": {
        "id": "7c72d4e7",
        "outputId": "00a0ae69-e320-49b4-b63a-a64746792c2b"
      },
      "outputs": [
        {
          "name": "stdout",
          "output_type": "stream",
          "text": [
            "Lütfen Tipini Sorgulamak İstediginiz Geometrik Sekli Giriniz: ucgen\n",
            "Kenar-1: -5\n",
            "Kenar-2: 1\n",
            "Kenar-3: 100\n",
            "Siradan Bir Ucgendir.\n"
          ]
        }
      ],
      "source": [
        "sekil=input('Lütfen Tipini Sorgulamak İstediginiz Geometrik Sekli Giriniz: ')\n",
        "\n",
        "if sekil=='dortgen':\n",
        "    kenar1=int(input('Birinci Kenari Giriniz: '))\n",
        "    kenar2=int(input('İkinci Kenari Giriniz: '))\n",
        "    kenar3=int(input('Ucuncu Kenari Giriniz: '))\n",
        "    kenar4=int(input('Dorduncu Kenari Giriniz: '))\n",
        "    if kenar1==kenar2 and kenar1==kenar3 and kenar1==kenar4:\n",
        "        print('Sekil Bir Karedir.')\n",
        "    elif  kenar1==kenar3 and kenar2==kenar4:\n",
        "        print('Sekil Bir Dikdortgendir.')\n",
        "    else:\n",
        "        print('Sekil Bir Dortgendir.')\n",
        "\n",
        "elif sekil=='ucgen':\n",
        "    a=int(input('Kenar-1: '))\n",
        "    b=int(input('Kenar-2: '))\n",
        "    c=int(input('Kenar-3: '))\n",
        "    if abs(a+b)>c or abs(a+c)>b or abs(b+c)>a:\n",
        "        if (a==b and a==c):\n",
        "            print('Eskenar Ucgendir')\n",
        "        elif (a==b and a!=c) or (a==c and a!=b) or (b==c and b!=a):\n",
        "            print('İkizkenar Ucgendir.')\n",
        "        else:\n",
        "            print('Siradan Bir Ucgendir.')\n",
        "    else:\n",
        "        print('Sekil Bir Ucgen Belirtmiyor.')\n",
        "else:\n",
        "    print('ucgen ya da dortgen Seceneklerinden Birini Giriniz!')"
      ]
    },
    {
      "cell_type": "code",
      "execution_count": null,
      "id": "e3ec071c",
      "metadata": {
        "id": "e3ec071c",
        "outputId": "60982779-d5a1-4f78-e9fd-d043d37975f3"
      },
      "outputs": [
        {
          "data": {
            "text/plain": [
              "False"
            ]
          },
          "execution_count": 13,
          "metadata": {},
          "output_type": "execute_result"
        }
      ],
      "source": [
        "#Not: String bir deger icinde in komutu kullanma:\n",
        "\n",
        "'ty' in 'mchty'  #True\n",
        "'yt' in 'mchty'  #False"
      ]
    },
    {
      "cell_type": "markdown",
      "id": "bf5cc3b0",
      "metadata": {
        "id": "bf5cc3b0"
      },
      "source": [
        "### **16. Liste Icinde  2 ile Tam Bolunemeyen Elemanlarin Toplami**"
      ]
    },
    {
      "cell_type": "code",
      "execution_count": null,
      "id": "7f503e1a",
      "metadata": {
        "id": "7f503e1a",
        "outputId": "f67bb990-e176-4f6a-c857-2c895ff131aa"
      },
      "outputs": [
        {
          "name": "stdout",
          "output_type": "stream",
          "text": [
            "28\n"
          ]
        }
      ],
      "source": [
        "liste = [2,1,10,2,23,1,56,3]\n",
        "toplam=0\n",
        "for i in liste:\n",
        "    if (not i%2==0):\n",
        "        toplam+=i\n",
        "print(toplam)"
      ]
    },
    {
      "cell_type": "markdown",
      "id": "c9961021",
      "metadata": {
        "id": "c9961021"
      },
      "source": [
        "### **17. 1 den 10 Kadar Olan Sayilar Icinden 2 ve 5 Degerlerini Cikarma**"
      ]
    },
    {
      "cell_type": "code",
      "execution_count": null,
      "id": "a0608246",
      "metadata": {
        "id": "a0608246",
        "outputId": "9fb045ba-3637-4f97-919b-56b75dfacdcf"
      },
      "outputs": [
        {
          "name": "stdout",
          "output_type": "stream",
          "text": [
            "1\n",
            "3\n",
            "4\n",
            "6\n",
            "7\n",
            "8\n",
            "9\n"
          ]
        }
      ],
      "source": [
        "i=1\n",
        "while i<10:\n",
        "    if (not (i==2) and (not (i==5))):\n",
        "        print(i)\n",
        "    i+=1"
      ]
    },
    {
      "cell_type": "markdown",
      "id": "adf85cee",
      "metadata": {
        "id": "adf85cee"
      },
      "source": [
        "### **18. Uc Giris Hakki Bulunan Bir Kullanici Giris Sistemi Programi**"
      ]
    },
    {
      "cell_type": "code",
      "execution_count": null,
      "id": "42e36f69",
      "metadata": {
        "id": "42e36f69",
        "outputId": "7b3853c2-d5b6-4574-d5e9-5e5a08a6eab4"
      },
      "outputs": [
        {
          "name": "stdout",
          "output_type": "stream",
          "text": [
            "------------------------\n",
            "Kullanici Giris Programi\n",
            "------------------------\n",
            "Kullanici Adi Giriniz: mchty\n",
            "Kullanici Sifrenizi Giriniz: 12121212\n",
            "\n",
            "*****Giris Basarili*****\n"
          ]
        }
      ],
      "source": [
        "print('------------------------\\nKullanici Giris Programi\\n------------------------')\n",
        "\n",
        "sys_username='mchty'\n",
        "sys_password='12121212'\n",
        "giris_hakki=3\n",
        "while True:\n",
        "    kullanici_adi=input('Kullanici Adi Giriniz: ')\n",
        "    kullanici_sifre=input('Kullanici Sifrenizi Giriniz: ')\n",
        "\n",
        "    if (kullanici_adi==sys_username and kullanici_sifre!=sys_password):\n",
        "        print('\\n*****Parolayi Hatali Girdiniz*****')\n",
        "        giris_hakki-=1\n",
        "        print('Kalan Giris Hakkiniz:',giris_hakki)\n",
        "    elif (kullanici_adi!=sys_username and kullanici_sifre==sys_password):\n",
        "        print('\\n*****Kullanici Adini Hatali Girdiniz*****')\n",
        "        giris_hakki-=1\n",
        "        print('Kalan Giris Hakkiniz:',giris_hakki)\n",
        "    elif (kullanici_adi!=sys_username and kullanici_sifre!=sys_password):\n",
        "        print('\\n*****Kullanici Adi ve Parola Hatali*****')\n",
        "        giris_hakki-=1\n",
        "        print('Kalan Giris Hakkiniz:',giris_hakki)\n",
        "    else:\n",
        "        print('\\n*****Giris Basarili*****')\n",
        "        break\n",
        "    if (giris_hakki==0):\n",
        "        print('\\nGiris Hakkiniz Bitmistir.')\n",
        "        break"
      ]
    },
    {
      "cell_type": "markdown",
      "id": "cfa2bcf8",
      "metadata": {
        "id": "cfa2bcf8"
      },
      "source": [
        "### **19. Faktoriyel Hesaplama Programi**"
      ]
    },
    {
      "cell_type": "code",
      "execution_count": null,
      "id": "48d5c56d",
      "metadata": {
        "id": "48d5c56d",
        "outputId": "203592bd-8a62-47c4-c87b-f50b308ae569"
      },
      "outputs": [
        {
          "name": "stdout",
          "output_type": "stream",
          "text": [
            "\n",
            "´´´´´´''Faktoriyel Hesaplama Programi''´´´´´´\n",
            "\n",
            "Programdan cikmak icin q degerini yaziniz.\n",
            "\n",
            "Sayi Giriniz: 5\n",
            "Girilen Sayi: 5 ---> Faktoriyeli: 120\n"
          ]
        }
      ],
      "source": [
        "print('''\n",
        "´´´´´´''Faktoriyel Hesaplama Programi''´´´´´´\n",
        "\n",
        "Programdan cikmak icin q degerini yaziniz.\n",
        "''')\n",
        "\n",
        "while True:\n",
        "    sayi=input('Sayi Giriniz: ')\n",
        "\n",
        "    if sayi=='q':\n",
        "        print('Programdan Cikiliyor....')\n",
        "        break\n",
        "    sayi = int(sayi)\n",
        "    faktoriyel=1\n",
        "    for i in range(1,sayi+1):\n",
        "        faktoriyel*=i\n",
        "    print('Girilen Sayi: {} ---> Faktoriyeli: {}'.format(sayi,faktoriyel))\n",
        "    break"
      ]
    },
    {
      "cell_type": "markdown",
      "id": "a660091e",
      "metadata": {
        "id": "a660091e"
      },
      "source": [
        "#### **2. Yol - Faktoriyel Hesaplama**"
      ]
    },
    {
      "cell_type": "code",
      "execution_count": null,
      "id": "d6d7ef1b",
      "metadata": {
        "id": "d6d7ef1b",
        "outputId": "02bbff0b-96b0-4d60-d22d-bf90408473c7"
      },
      "outputs": [
        {
          "name": "stdout",
          "output_type": "stream",
          "text": [
            "Sayi Giriniz: 5\n",
            "120\n"
          ]
        }
      ],
      "source": [
        "sayi=int(input('Sayi Giriniz: '))\n",
        "faktoriyel=1\n",
        "if sayi>=0:\n",
        "    for i in range(1,sayi+1): #sayi+1 sebebi range(x,y) y'ye kadar al y'yi dahil etme demek.\n",
        "        faktoriyel=faktoriyel*i\n",
        "    print(faktoriyel)"
      ]
    },
    {
      "cell_type": "markdown",
      "id": "20a311ed",
      "metadata": {
        "id": "20a311ed"
      },
      "source": [
        "##### 3. Yol - Faktoriyel Hesaplama"
      ]
    },
    {
      "cell_type": "code",
      "execution_count": null,
      "id": "9b281b6f",
      "metadata": {
        "id": "9b281b6f",
        "outputId": "ec04c381-b3f3-472c-e38b-8c31f7c6d6be"
      },
      "outputs": [
        {
          "name": "stdout",
          "output_type": "stream",
          "text": [
            "Faktoriyeli Hesaplanacak Sayiyi Giriniz: 5\n",
            "Girilen Sayi= 5 ---> Faktoriyeli= 120\n"
          ]
        }
      ],
      "source": [
        "sayi=int(input('Faktoriyeli Hesaplanacak Sayiyi Giriniz: '))\n",
        "\n",
        "deger=1\n",
        "for i in range(sayi):\n",
        "    deger*=(i+1)\n",
        "print('Girilen Sayi= {} ---> Faktoriyeli= {}'.format(sayi,deger))"
      ]
    },
    {
      "cell_type": "markdown",
      "id": "49474285",
      "metadata": {
        "id": "49474285"
      },
      "source": [
        "### **20. Fibonacci Serisini Yazan Program**"
      ]
    },
    {
      "cell_type": "code",
      "execution_count": null,
      "id": "7d493bfc",
      "metadata": {
        "id": "7d493bfc",
        "outputId": "5682451f-f1f6-4cd2-fad6-e9dc0b41580f"
      },
      "outputs": [
        {
          "name": "stdout",
          "output_type": "stream",
          "text": [
            "[1, 1, 2, 3, 5, 8, 13, 21, 34, 55, 89, 144]\n"
          ]
        }
      ],
      "source": [
        "\"\"\"\n",
        "Fibonacci Serisi yeni bir sayıyı önceki iki sayının toplamı şeklinde oluşturur.\n",
        "\n",
        "1,1,2,3,5,8,13,21,34...............\n",
        "\"\"\"\n",
        "\n",
        "sayi1=1\n",
        "sayi2=1\n",
        "fibonacci=[sayi1,sayi2]\n",
        "for i in range(10):\n",
        "    sayi1,sayi2=sayi2,sayi1+sayi2\n",
        "    fibonacci.append(sayi2)\n",
        "print(fibonacci)"
      ]
    },
    {
      "cell_type": "markdown",
      "id": "f5fd4588",
      "metadata": {
        "id": "f5fd4588"
      },
      "source": [
        "### **21. Mukemmel Sayiyi Bulan Program**"
      ]
    },
    {
      "cell_type": "markdown",
      "id": "aa7ff949",
      "metadata": {
        "id": "aa7ff949"
      },
      "source": [
        "Kullanıcıdan aldığınız bir sayının mükemmel olup olmadığını bulmaya çalışın.\n",
        "\n",
        "Bir sayının kendi hariç bölenlerinin toplamı kendine eşitse bu sayıya \"mükemmel sayı\" denir. Örnek olarak, 6 mükemmel bir sayıdır. (1 + 2 + 3 = 6)"
      ]
    },
    {
      "cell_type": "code",
      "execution_count": null,
      "id": "cccd6b24",
      "metadata": {
        "id": "cccd6b24",
        "outputId": "501a3785-bc37-4394-9e72-5300a695764b"
      },
      "outputs": [
        {
          "name": "stdout",
          "output_type": "stream",
          "text": [
            "Sayiyi Giriniz: 6\n",
            "Sayi Mukemmel Bir Sayidir.\n"
          ]
        }
      ],
      "source": [
        "sayi=int(input('Sayiyi Giriniz: '))\n",
        "\n",
        "i=1\n",
        "toplam=0\n",
        "\n",
        "while i<sayi:\n",
        "    if (sayi%i==0):\n",
        "        toplam+=i\n",
        "    i+=1\n",
        "if toplam==i:\n",
        "    print('Sayi Mukemmel Bir Sayidir.')\n",
        "else:\n",
        "    print('Sayi Mukemmel Bir Sayi Degildir.')"
      ]
    },
    {
      "cell_type": "markdown",
      "id": "9947c5d6",
      "metadata": {
        "id": "9947c5d6"
      },
      "source": [
        "### **22. Armstrong Sayi Sorgulama Programi**"
      ]
    },
    {
      "cell_type": "markdown",
      "id": "5837f3de",
      "metadata": {
        "id": "5837f3de"
      },
      "source": [
        "Kullanıcıdan aldığınız bir sayının \"Armstrong\" sayısı olup olmadığını bulmaya çalışın.\n",
        "\n",
        "Örnek olarak, Bir sayı eğer 4 basamaklı ise ve oluşturan rakamlardan herbirinin 4. kuvvetinin toplamı( 3 basamaklı sayılar için 3.kuvveti ) o sayıya eşitse bu sayıya \"Armstrong\" sayısı denir.\n",
        "\n",
        "Örnek olarak : 1634 = 1^4 + 6^4 + 3^4 + 4^4"
      ]
    },
    {
      "cell_type": "code",
      "execution_count": null,
      "id": "cbb7909a",
      "metadata": {
        "id": "cbb7909a",
        "outputId": "c3b461ee-0cfc-429f-fe84-c254e90bf20e"
      },
      "outputs": [
        {
          "name": "stdout",
          "output_type": "stream",
          "text": [
            "Sayi Giriniz: 153\n",
            "Armstrong Sayidir\n"
          ]
        }
      ],
      "source": [
        "sayi=input('Sayi Giriniz: ')\n",
        "basamak_sayisi=len(sayi)\n",
        "sayi=int(sayi)\n",
        "basamak=0\n",
        "toplam=0\n",
        "gecici_sayi=sayi\n",
        "\n",
        "while (gecici_sayi>0):\n",
        "    basamak=gecici_sayi%10\n",
        "    toplam+=basamak**basamak_sayisi\n",
        "    gecici_sayi//=10\n",
        "if toplam==sayi:\n",
        "    print('Armstrong Sayidir')\n",
        "else:\n",
        "    print('Armstrong Sayisi Degildir')\n",
        "\n"
      ]
    },
    {
      "cell_type": "markdown",
      "id": "24ee7a3a",
      "metadata": {
        "id": "24ee7a3a"
      },
      "source": [
        "### **23. While Ornegi - 1 den 5 e kadar sayilarin yanina .Sinif ekleme**"
      ]
    },
    {
      "cell_type": "code",
      "execution_count": null,
      "id": "8b708f59",
      "metadata": {
        "id": "8b708f59",
        "outputId": "34c5cf57-393f-4f05-e69d-9c367ce0d815"
      },
      "outputs": [
        {
          "name": "stdout",
          "output_type": "stream",
          "text": [
            "1. Sinif\n",
            "2. Sinif\n",
            "3. Sinif\n",
            "4. Sinif\n"
          ]
        }
      ],
      "source": [
        "i=1\n",
        "while i<5:\n",
        "    print(str(i)+'. Sinif')\n",
        "    i+=1"
      ]
    },
    {
      "cell_type": "markdown",
      "id": "25c428bf",
      "metadata": {
        "id": "25c428bf"
      },
      "source": [
        "### **24. While True Ornegi**"
      ]
    },
    {
      "cell_type": "markdown",
      "id": "f15d1503",
      "metadata": {
        "id": "f15d1503"
      },
      "source": [
        "Kullanici 1 ile 5 arasinda sayi girsin 3 sayisi bulundugunda donguden cikilsin."
      ]
    },
    {
      "cell_type": "code",
      "execution_count": null,
      "id": "9d97610b",
      "metadata": {
        "id": "9d97610b",
        "outputId": "42bac6af-b5fb-4125-8067-9fdcdf2487eb"
      },
      "outputs": [
        {
          "name": "stdout",
          "output_type": "stream",
          "text": [
            "1 ile 5 Arasinda Bir Sayi Giriniz: 1\n",
            "1 ile 5 Arasinda Bir Sayi Giriniz: 2\n",
            "1 ile 5 Arasinda Bir Sayi Giriniz: 4\n",
            "1 ile 5 Arasinda Bir Sayi Giriniz: 3\n",
            "3 Sayisi Bulundu ve Donguden Cikildi...\n"
          ]
        }
      ],
      "source": [
        "while True:\n",
        "    sayi=int(input('1 ile 5 Arasinda Bir Sayi Giriniz: '))\n",
        "    if sayi==3:\n",
        "        print('3 Sayisi Bulundu ve Donguden Cikildi...')\n",
        "        break"
      ]
    },
    {
      "cell_type": "markdown",
      "id": "93201698",
      "metadata": {
        "id": "93201698"
      },
      "source": [
        "### **25. while True Ornegi - Sifre Olusturma Programi**"
      ]
    },
    {
      "cell_type": "code",
      "execution_count": null,
      "id": "255cda68",
      "metadata": {
        "id": "255cda68",
        "outputId": "a83c36ea-8038-4e1a-b8cb-bdfe21a74556"
      },
      "outputs": [
        {
          "name": "stdout",
          "output_type": "stream",
          "text": [
            "8 Haneli Bir Sifre Giriniz: 1221\n",
            "\n",
            "Sifreniz 8 Karakterli Olmalidir...\n",
            "8 Haneli Bir Sifre Giriniz: 12345678\n",
            "Sifre Kaydedildi\n"
          ]
        }
      ],
      "source": [
        "while True:\n",
        "    password=input('8 Haneli Bir Sifre Giriniz: ')\n",
        "    if len(password)==8:\n",
        "        print('Sifre Kaydedildi')\n",
        "        break\n",
        "    else:\n",
        "        print('\\nSifreniz 8 Karakterli Olmalidir...')"
      ]
    },
    {
      "cell_type": "code",
      "execution_count": null,
      "id": "8655d217",
      "metadata": {
        "id": "8655d217"
      },
      "outputs": [],
      "source": []
    },
    {
      "cell_type": "markdown",
      "id": "ccf60860",
      "metadata": {
        "id": "ccf60860"
      },
      "source": [
        "### **26. Girilen String Ifadeyi Alt Alta Karakter Karakter Yazma:**"
      ]
    },
    {
      "cell_type": "code",
      "execution_count": null,
      "id": "14bddde3",
      "metadata": {
        "id": "14bddde3",
        "outputId": "c909b7f0-1431-4264-a3d5-ccb96052dc0b"
      },
      "outputs": [
        {
          "name": "stdout",
          "output_type": "stream",
          "text": [
            "Isminizi Yaziniz: Mucahit\n",
            "M\n",
            "U\n",
            "C\n",
            "A\n",
            "H\n",
            "I\n",
            "T\n"
          ]
        }
      ],
      "source": [
        "ad = input('Isminizi Yaziniz: ')\n",
        "i=0\n",
        "while i<len(ad):\n",
        "    ad=ad.upper()\n",
        "    print(ad[i])\n",
        "    i+=1\n"
      ]
    },
    {
      "cell_type": "markdown",
      "id": "0af47ab2",
      "metadata": {
        "id": "0af47ab2"
      },
      "source": [
        "### **27. Carpim Tablosu**"
      ]
    },
    {
      "cell_type": "code",
      "execution_count": null,
      "id": "e41cacb7",
      "metadata": {
        "id": "e41cacb7",
        "outputId": "493919c6-5d81-4752-d389-152dfbe0b566"
      },
      "outputs": [
        {
          "name": "stdout",
          "output_type": "stream",
          "text": [
            "1 x 1 = 1\n",
            "1 x 2 = 2\n",
            "1 x 3 = 3\n",
            "1 x 4 = 4\n",
            "1 x 5 = 5\n",
            "1 x 6 = 6\n",
            "1 x 7 = 7\n",
            "1 x 8 = 8\n",
            "1 x 9 = 9\n",
            "2 x 1 = 2\n",
            "2 x 2 = 4\n",
            "2 x 3 = 6\n",
            "2 x 4 = 8\n",
            "2 x 5 = 10\n",
            "2 x 6 = 12\n",
            "2 x 7 = 14\n",
            "2 x 8 = 16\n",
            "2 x 9 = 18\n",
            "3 x 1 = 3\n",
            "3 x 2 = 6\n",
            "3 x 3 = 9\n",
            "3 x 4 = 12\n",
            "3 x 5 = 15\n",
            "3 x 6 = 18\n",
            "3 x 7 = 21\n",
            "3 x 8 = 24\n",
            "3 x 9 = 27\n",
            "4 x 1 = 4\n",
            "4 x 2 = 8\n",
            "4 x 3 = 12\n",
            "4 x 4 = 16\n",
            "4 x 5 = 20\n",
            "4 x 6 = 24\n",
            "4 x 7 = 28\n",
            "4 x 8 = 32\n",
            "4 x 9 = 36\n",
            "5 x 1 = 5\n",
            "5 x 2 = 10\n",
            "5 x 3 = 15\n",
            "5 x 4 = 20\n",
            "5 x 5 = 25\n",
            "5 x 6 = 30\n",
            "5 x 7 = 35\n",
            "5 x 8 = 40\n",
            "5 x 9 = 45\n",
            "6 x 1 = 6\n",
            "6 x 2 = 12\n",
            "6 x 3 = 18\n",
            "6 x 4 = 24\n",
            "6 x 5 = 30\n",
            "6 x 6 = 36\n",
            "6 x 7 = 42\n",
            "6 x 8 = 48\n",
            "6 x 9 = 54\n",
            "7 x 1 = 7\n",
            "7 x 2 = 14\n",
            "7 x 3 = 21\n",
            "7 x 4 = 28\n",
            "7 x 5 = 35\n",
            "7 x 6 = 42\n",
            "7 x 7 = 49\n",
            "7 x 8 = 56\n",
            "7 x 9 = 63\n",
            "8 x 1 = 8\n",
            "8 x 2 = 16\n",
            "8 x 3 = 24\n",
            "8 x 4 = 32\n",
            "8 x 5 = 40\n",
            "8 x 6 = 48\n",
            "8 x 7 = 56\n",
            "8 x 8 = 64\n",
            "8 x 9 = 72\n",
            "9 x 1 = 9\n",
            "9 x 2 = 18\n",
            "9 x 3 = 27\n",
            "9 x 4 = 36\n",
            "9 x 5 = 45\n",
            "9 x 6 = 54\n",
            "9 x 7 = 63\n",
            "9 x 8 = 72\n",
            "9 x 9 = 81\n"
          ]
        }
      ],
      "source": [
        "for a in range(1,10):\n",
        "    for b in range(1,10):\n",
        "        print('{} x {} = {}'.format(a,b,a*b))"
      ]
    },
    {
      "cell_type": "markdown",
      "id": "570888af",
      "metadata": {
        "id": "570888af"
      },
      "source": [
        "### **28. Basit ATM Uygulamasi**"
      ]
    },
    {
      "cell_type": "code",
      "execution_count": null,
      "id": "eef24032",
      "metadata": {
        "id": "eef24032",
        "outputId": "e5d5f655-3646-4a47-845c-2759f8fd3611"
      },
      "outputs": [
        {
          "name": "stdout",
          "output_type": "stream",
          "text": [
            "´`´`´`´` ORTAK ATM ´`´`´`´`\n",
            "\n",
            "Yapilabilir İslemler:\n",
            "1. Bakiye Sorgulama\n",
            "2. Para Cekme\n",
            "3. Para Yatırma\n",
            "\n",
            "Lutfen Bir Islem Seciniz: 3\n",
            "\n",
            "Para Yatirma İslemi\n",
            "Yatirmak Istediginiz Tutari Giriniz: 2500\n",
            "\n",
            "Isleminiz Gerceklesti..\n",
            "Yatirilan Tutar: 2500 TL\n",
            "Bakiyeniz: 7500 TL\n"
          ]
        }
      ],
      "source": [
        "print('´`´`´`´` ORTAK ATM ´`´`´`´`')\n",
        "\n",
        "print('''\n",
        "Yapilabilir İslemler:\n",
        "1. Bakiye Sorgulama\n",
        "2. Para Cekme\n",
        "3. Para Yatırma\n",
        "''')\n",
        "\n",
        "bakiye=5000\n",
        "islem=input('Lutfen Bir Islem Seciniz: ')\n",
        "if islem=='1':\n",
        "    print('\\nBakiye Sorgulama Islemi'+'\\n'+'Bakiyeniz:',bakiye)\n",
        "elif islem=='2':\n",
        "        print('\\nPara Cekme İslemi')\n",
        "        cekilecek=int(input('Cekilecek Tutari Giriniz: '))\n",
        "        if cekilecek<bakiye:\n",
        "            bakiye-=cekilecek\n",
        "            print('\\nİsleminiz Gerceklesti'+'\\n'+'Cekilen Tutar:',str(cekilecek)+' TL'+\n",
        "                  '\\n'+'Bakiyeniz:',str(bakiye)+' TL')\n",
        "        elif cekilecek==bakiye:\n",
        "            bakiye-=cekilecek\n",
        "            print('\\nİsleminiz Gerceklesti'+'\\n'+'Cekilen Tutar:',str(cekilecek)+' TL'+\n",
        "                  '\\n'+'Bakiyeniz:',str(bakiye)+' TL')\n",
        "        else:\n",
        "            print('\\nBakiye Yetersiz...')\n",
        "elif islem=='3':\n",
        "    print('\\nPara Yatirma İslemi')\n",
        "    yatirilacak=int(input('Yatirmak Istediginiz Tutari Giriniz: '))\n",
        "    bakiye+=yatirilacak\n",
        "    print('\\nIsleminiz Gerceklesti..'+'\\n'+'Yatirilan Tutar:',str(yatirilacak)+' TL'+\n",
        "          '\\n'+'Bakiyeniz:',str(bakiye)+' TL')\n",
        "else:\n",
        "    print('Lutfen Gecerli Bir İslem Seciniz!')\n"
      ]
    },
    {
      "cell_type": "markdown",
      "id": "10fc8fa0",
      "metadata": {
        "id": "10fc8fa0"
      },
      "source": [
        "### **29. While True Ornegi**"
      ]
    },
    {
      "cell_type": "markdown",
      "id": "650fd2e5",
      "metadata": {
        "id": "650fd2e5"
      },
      "source": [
        "Her bir while döngüsünde kullanıcıdan bir sayı alın ve kullanıcının girdiği sayıları \"toplam\" isimli bir değişkene ekleyin. Kullanıcı \"q\" tuşuna bastığı zaman döngüyü sonlandırın ve ekrana \"toplam değişkenini\" bastırın.\n",
        "\n",
        "İpucu : while döngüsünü sonsuz koşulla başlatın ve kullanıcı q'ya basarsa döngüyü break ile sonlandırın."
      ]
    },
    {
      "cell_type": "code",
      "execution_count": null,
      "id": "f7f207ae",
      "metadata": {
        "id": "f7f207ae",
        "outputId": "d55c2d05-de3e-471b-9efb-89d576412a49"
      },
      "outputs": [
        {
          "name": "stdout",
          "output_type": "stream",
          "text": [
            "Sayi Giriniz: 5\n",
            "Toplam=  5\n",
            "Sayi Giriniz: 8\n",
            "Toplam=  13\n",
            "Sayi Giriniz: 6\n",
            "Toplam=  19\n",
            "Sayi Giriniz: 12\n",
            "Toplam=  31\n",
            "Sayi Giriniz: q\n",
            "\n",
            "Toplam= 31\n",
            "Programdan Cikiliyor.\n"
          ]
        }
      ],
      "source": [
        "toplam=0\n",
        "while True:\n",
        "    sayi=input('Sayi Giriniz: ')\n",
        "    if sayi=='q':\n",
        "        print( '\\n'+'Toplam= ' +str(toplam)+'\\nProgramdan Cikiliyor.')\n",
        "        break\n",
        "    toplam+=int(sayi)\n",
        "    print('Toplam= ',toplam)\n"
      ]
    },
    {
      "cell_type": "markdown",
      "id": "0ce801cc",
      "metadata": {
        "id": "0ce801cc"
      },
      "source": [
        "### **30. 1'den 100'e Kadar 3 ile Tam Bolunen Sayilari Liste Icine Yazan Program**"
      ]
    },
    {
      "cell_type": "code",
      "execution_count": null,
      "id": "c0e4659e",
      "metadata": {
        "id": "c0e4659e",
        "outputId": "b671f08e-aef2-42fa-d5a6-0c3d1a83b512"
      },
      "outputs": [
        {
          "name": "stdout",
          "output_type": "stream",
          "text": [
            "[3, 6, 9, 12, 15, 18, 21, 24, 27, 30, 33, 36, 39, 42, 45, 48, 51, 54, 57, 60, 63, 66, 69, 72, 75, 78, 81, 84, 87, 90, 93, 96, 99]\n"
          ]
        }
      ],
      "source": [
        "ucler=[]\n",
        "for i in range(1,100):\n",
        "    if i%3!=0:\n",
        "        continue\n",
        "    ucler.append(i)\n",
        "print(ucler)"
      ]
    },
    {
      "cell_type": "markdown",
      "id": "ef34f16c",
      "metadata": {
        "id": "ef34f16c"
      },
      "source": [
        "Buradaki problemin çözümünü derslerimizde özellikle öğrenmedik. Burada mantık yürüterek ve list comprehension kullanarak 1'den 100'e kadar olan sayılardan sadece çift sayıları bir listeye atama yapma islemi:"
      ]
    },
    {
      "cell_type": "code",
      "execution_count": null,
      "id": "1a186e3a",
      "metadata": {
        "scrolled": true,
        "id": "1a186e3a",
        "outputId": "9d571d82-7aa2-4d35-9bb6-e863c925ee0d"
      },
      "outputs": [
        {
          "name": "stdout",
          "output_type": "stream",
          "text": [
            "[2, 4, 6, 8, 10, 12, 14, 16, 18, 20, 22, 24, 26, 28, 30, 32, 34, 36, 38, 40, 42, 44, 46, 48, 50, 52, 54, 56, 58, 60, 62, 64, 66, 68, 70, 72, 74, 76, 78, 80, 82, 84, 86, 88, 90, 92, 94, 96, 98]\n"
          ]
        }
      ],
      "source": [
        "liste=[i for i in range(1,100) if i%2==0]\n",
        "print(liste)"
      ]
    },
    {
      "cell_type": "markdown",
      "id": "95b6c9dd",
      "metadata": {
        "id": "95b6c9dd"
      },
      "source": [
        "### **31. Bir Listede En Buyuk Sayiyi Bulan Program**"
      ]
    },
    {
      "cell_type": "code",
      "execution_count": null,
      "id": "74bb2182",
      "metadata": {
        "id": "74bb2182",
        "outputId": "557edc9f-4439-40fc-b420-fd154b3eab76"
      },
      "outputs": [
        {
          "name": "stdout",
          "output_type": "stream",
          "text": [
            "En Buyuk Sayi: 8000\n"
          ]
        }
      ],
      "source": [
        "maaslar = [3000, 5000 , 2500 , 8000, 6500]\n",
        "ebs=0\n",
        "for i in maaslar:\n",
        "    if i>ebs:\n",
        "        ebs=i\n",
        "print('En Buyuk Sayi:',ebs)\n"
      ]
    },
    {
      "cell_type": "markdown",
      "id": "75d308c6",
      "metadata": {
        "id": "75d308c6"
      },
      "source": [
        "### **32. Bir Listede Istenilen Araliktaki Degerlerin Sayisini Bulan Program**"
      ]
    },
    {
      "cell_type": "code",
      "execution_count": null,
      "id": "bfbc1107",
      "metadata": {
        "id": "bfbc1107",
        "outputId": "e7dba2b6-f471-4614-fd5a-29271f6b70f5"
      },
      "outputs": [
        {
          "name": "stdout",
          "output_type": "stream",
          "text": [
            "6\n"
          ]
        }
      ],
      "source": [
        "puanlar = [150 , 380 , 350, 250 , 350 , 120 , 420 , 410 , 360 , 230 , 390 , 220 , 260 , 340 , 290]\n",
        "kisiler=0\n",
        "\n",
        "for i in puanlar:\n",
        "    if i>300 and i<400:\n",
        "        kisiler+=1\n",
        "print(kisiler)"
      ]
    },
    {
      "cell_type": "markdown",
      "id": "a70c4f8c",
      "metadata": {
        "id": "a70c4f8c"
      },
      "source": [
        "##### *2. Yol*"
      ]
    },
    {
      "cell_type": "code",
      "execution_count": null,
      "id": "43222f2b",
      "metadata": {
        "id": "43222f2b",
        "outputId": "1662f81f-2a8a-422e-cc97-d9c812316f39"
      },
      "outputs": [
        {
          "data": {
            "text/plain": [
              "6"
            ]
          },
          "execution_count": 27,
          "metadata": {},
          "output_type": "execute_result"
        }
      ],
      "source": [
        "kisi=[i for i in puanlar if i>300 and i<400 ]\n",
        "len(kisi)"
      ]
    },
    {
      "cell_type": "markdown",
      "id": "5783c631",
      "metadata": {
        "id": "5783c631"
      },
      "source": [
        "### **33. Listedeki Elemanlarin Genel Ortalamasi**"
      ]
    },
    {
      "cell_type": "code",
      "execution_count": null,
      "id": "cd2696ab",
      "metadata": {
        "id": "cd2696ab",
        "outputId": "ce982de1-5a52-40d8-dbd8-1f0fcf234a07"
      },
      "outputs": [
        {
          "name": "stdout",
          "output_type": "stream",
          "text": [
            "301.3333333333333\n"
          ]
        }
      ],
      "source": [
        "puanlar = [150 , 380 , 350, 250 , 350 , 120 , 420 , 410 , 360 , 230 , 390 , 220 , 260 , 340 , 290]\n",
        "toplam=0\n",
        "\n",
        "for i in puanlar:\n",
        "    toplam+=i\n",
        "    ort=toplam/len(puanlar)\n",
        "print(ort)"
      ]
    },
    {
      "cell_type": "markdown",
      "id": "8182d333",
      "metadata": {
        "id": "8182d333"
      },
      "source": [
        "### **34. Odeme Plani - def Kullanimi (Fonksiyonlar Yardimiyla)**"
      ]
    },
    {
      "cell_type": "markdown",
      "id": "068b1207",
      "metadata": {
        "id": "068b1207"
      },
      "source": [
        "Kullanicidan TC istenilecek.\n",
        "* TC Son Hanesi 2 ve 4 Olanlar Pazartesi Gunu Odeme Alacak\n",
        "* TC Son Hanesi 0,6 ve 8 Olanlar Sali Gunu Odeme Alacak\n",
        "* Fonsiyon Kullanarak Yapiniz"
      ]
    },
    {
      "cell_type": "code",
      "execution_count": null,
      "id": "e14716d7",
      "metadata": {
        "id": "e14716d7",
        "outputId": "5dd02da6-0db9-44cd-c8d3-b4c22b794ea7"
      },
      "outputs": [
        {
          "name": "stdout",
          "output_type": "stream",
          "text": [
            "TC Numaranizi Giriniz: 26534351251\n",
            "\n",
            "Odemeniz: Odeme Grubunda Degilsiniz.\n"
          ]
        }
      ],
      "source": [
        "tc_no=input('TC Numaranizi Giriniz: ')\n",
        "\n",
        "def odeme(x):\n",
        "    if (int(tc_no[10])==2 or int(tc_no[10])==4):\n",
        "        return 'Pazartesi Gunu Yapilacak'\n",
        "    elif (int(tc_no[10])==0 or int(tc_no[10])==6 or int(tc_no[10])==8):\n",
        "        return 'Sali Gunu Yapilacak'\n",
        "    else:\n",
        "        return 'Odeme Grubunda Degilsiniz.'\n",
        "print('\\nOdemeniz: {}'.format(odeme(tc_no)))"
      ]
    },
    {
      "cell_type": "markdown",
      "id": "c6cde554",
      "metadata": {
        "id": "c6cde554"
      },
      "source": [
        "### **35. Bir Listeden Istenilen Elemani Diger Bir Listeye Tasima - Fonksiyon Yardimiyla**"
      ]
    },
    {
      "cell_type": "code",
      "execution_count": null,
      "id": "4d5c2551",
      "metadata": {
        "id": "4d5c2551",
        "outputId": "5723679c-1dc0-455e-80c3-e29b393c49fb"
      },
      "outputs": [
        {
          "name": "stdout",
          "output_type": "stream",
          "text": [
            "Numara Giriniz: 5555\n",
            "Girilen Numara a Listesinde Yoktur\n",
            "Girilen Numara b Listesinde Yoktur\n",
            "[1073, 1962, 2356, 2587, 1235, 1568, 3698]\n",
            "[2547, 3524, 3602, 4050, 7540, 4500, 2580]\n"
          ]
        }
      ],
      "source": [
        "a=[1073,1962,2356,2587,1235,1568,3698]\n",
        "b=[2547,3524,3602,4050,7540,4500,2580]\n",
        "\n",
        "def nakil(no):\n",
        "    for i in a:\n",
        "        if i ==no:\n",
        "            a.remove(no)\n",
        "            b.append(no)\n",
        "    else:\n",
        "        print('Girilen Numara a Listesinde Yoktur')\n",
        "    for i in b:\n",
        "        if i ==no:\n",
        "            b.remove(no)\n",
        "            a.append(no)\n",
        "    else:\n",
        "        print('Girilen Numara b Listesinde Yoktur')\n",
        "\n",
        "nakil(int(input('Numara Giriniz: ')))\n",
        "print(a)\n",
        "print(b)\n"
      ]
    },
    {
      "cell_type": "markdown",
      "id": "e2b9d7c0",
      "metadata": {
        "id": "e2b9d7c0"
      },
      "source": [
        "### **36. Bir Listede En Buyuk Sayiyi Bulup Diger Bir Listeye Ekleyen Program**"
      ]
    },
    {
      "cell_type": "code",
      "execution_count": null,
      "id": "da692e87",
      "metadata": {
        "id": "da692e87",
        "outputId": "4a8150f2-a9c4-4fba-db07-1411a083a5c5"
      },
      "outputs": [
        {
          "name": "stdout",
          "output_type": "stream",
          "text": [
            "[20, 30, 60, 27, 18, 48, 67, 89, 14, 38, 76]\n",
            "[68, 35, 45, 67, 82, 19, 38, 78, 99, 10, 28, 55, 95]\n"
          ]
        }
      ],
      "source": [
        "liste1=[20,30,60,27,18,95,48,67,89,14,38,76]\n",
        "liste2=[68,35,45,67,82,19,38,78,99,10,28,55]\n",
        "\n",
        "ebs=0\n",
        "for i in  liste1:\n",
        "    if i>ebs:\n",
        "        ebs=i\n",
        "liste1.remove(ebs)\n",
        "liste2.append(ebs)\n",
        "print(liste1)\n",
        "print(liste2)\n"
      ]
    },
    {
      "cell_type": "markdown",
      "id": "af51739b",
      "metadata": {
        "id": "af51739b"
      },
      "source": [
        "### **37. Bir Listenin Diger Bir Listeden Farkli Elemanlarini Yeni Bir Listeye Atama**"
      ]
    },
    {
      "cell_type": "code",
      "execution_count": null,
      "id": "d82e1cd5",
      "metadata": {
        "id": "d82e1cd5",
        "outputId": "a45d1550-d54d-4607-e5e2-7d83919c9627"
      },
      "outputs": [
        {
          "name": "stdout",
          "output_type": "stream",
          "text": [
            "[0]\n"
          ]
        }
      ],
      "source": [
        "xliste = [1 , 3 , 5 , 7 , 9]\n",
        "yliste = [1 , 3 , 5 , 7 , 9 , 0]\n",
        "fark=[]\n",
        "for i in yliste:\n",
        "    if i not in xliste:\n",
        "        fark.append(i)\n",
        "        print(fark)"
      ]
    },
    {
      "cell_type": "markdown",
      "id": "7f15dbd4",
      "metadata": {
        "id": "7f15dbd4"
      },
      "source": [
        "##### *2. Yol*"
      ]
    },
    {
      "cell_type": "code",
      "execution_count": null,
      "id": "3751ae7a",
      "metadata": {
        "id": "3751ae7a",
        "outputId": "5b7cacea-7247-47fe-e3f2-e6f501259db6"
      },
      "outputs": [
        {
          "data": {
            "text/plain": [
              "[0]"
            ]
          },
          "execution_count": 74,
          "metadata": {},
          "output_type": "execute_result"
        }
      ],
      "source": [
        "fark=[i for i in yliste if i not in xliste]\n",
        "fark"
      ]
    },
    {
      "cell_type": "markdown",
      "id": "c6da7d0c",
      "metadata": {
        "id": "c6da7d0c"
      },
      "source": [
        "*Alternatif*"
      ]
    },
    {
      "cell_type": "code",
      "execution_count": null,
      "id": "59691322",
      "metadata": {
        "id": "59691322",
        "outputId": "032e224a-752b-4d31-80d8-9cdf91c83069"
      },
      "outputs": [
        {
          "name": "stdout",
          "output_type": "stream",
          "text": [
            "[2, 10]\n"
          ]
        }
      ],
      "source": [
        "xliste = [1 , 3 , 5 , 7 , 9 , 2 , 10 ]\n",
        "yliste = [1 , 3 , 5 , 7 , 9]\n",
        "fark=[]\n",
        "if len(xliste)>len(yliste):\n",
        "    for i in xliste:\n",
        "        if i not in yliste:\n",
        "            fark.append(i)\n",
        "else:\n",
        "    for i in yliste:\n",
        "        if i not in xliste:\n",
        "            fark.append(i)\n",
        "print(fark)"
      ]
    },
    {
      "cell_type": "markdown",
      "id": "7630ee14",
      "metadata": {
        "id": "7630ee14"
      },
      "source": [
        "### **38. Sozluk Uygulamasi**"
      ]
    },
    {
      "cell_type": "markdown",
      "id": "71a6a12d",
      "metadata": {
        "id": "71a6a12d"
      },
      "source": [
        "* Iki ogrenci icin ad,soyad ve sinav sonucu iceren ayrı ayrı sozlukler olusturulacak.\n",
        "* Sinav sonuclarinin ortalamasini bulan program fonksiyon kullanilarak yapılacak."
      ]
    },
    {
      "cell_type": "code",
      "execution_count": null,
      "id": "ad7bdcba",
      "metadata": {
        "id": "ad7bdcba",
        "outputId": "ecccb3d6-5e4f-434f-d6ce-bec420d99bf1"
      },
      "outputs": [
        {
          "name": "stdout",
          "output_type": "stream",
          "text": [
            "Ortalama= 91.5\n"
          ]
        }
      ],
      "source": [
        "ogrenci1={'Adi':'Esra',\n",
        "          'Soyadi':'Akdas',\n",
        "          'Sinav_Sonucu':98}\n",
        "ogrenci2={'Adi':'Mucahit',\n",
        "          'Soyadi':'Yilmaz',\n",
        "          'Sinav_Sonucu':85}\n",
        "puanlar=[ogrenci1['Sinav_Sonucu'],ogrenci2['Sinav_Sonucu']]\n",
        "x=puanlar[0]\n",
        "y=puanlar[1]\n",
        "\n",
        "def ort(a,b):\n",
        "    return (a+b)/2\n",
        "print('Ortalama=',ort(x,y))"
      ]
    },
    {
      "cell_type": "markdown",
      "id": "51a0d54c",
      "metadata": {
        "id": "51a0d54c"
      },
      "source": [
        "*Alternatif*"
      ]
    },
    {
      "cell_type": "code",
      "execution_count": null,
      "id": "ad1857bb",
      "metadata": {
        "id": "ad1857bb",
        "outputId": "b6034ab9-6c18-43d2-b769-5a82e60c9220"
      },
      "outputs": [
        {
          "name": "stdout",
          "output_type": "stream",
          "text": [
            "Ortalama= 91.5\n"
          ]
        }
      ],
      "source": [
        "Akisi={'Adi':'Esra','Soyadi':'Akdas','Sinav_Sonucu':98}\n",
        "Bkisi={'Adi':'Mucahit','Soyadi':'Yilmaz','Sinav_Sonucu':85}\n",
        "\n",
        "def ortalama(a,b):\n",
        "    return (a+b)/2\n",
        "print('Ortalama=',ortalama(Akisi['Sinav_Sonucu'],Bkisi['Sinav_Sonucu']))"
      ]
    },
    {
      "cell_type": "markdown",
      "id": "46d114b0",
      "metadata": {
        "id": "46d114b0"
      },
      "source": [
        "### **39. Sozluk Uygulamasi Fonksiyon ile Sorgulama**"
      ]
    },
    {
      "cell_type": "code",
      "execution_count": null,
      "id": "174feb72",
      "metadata": {
        "id": "174feb72",
        "outputId": "3a9b8929-4949-44c4-c80b-8af063e4e5dc"
      },
      "outputs": [
        {
          "name": "stdout",
          "output_type": "stream",
          "text": [
            "TC Giriniz: 3653652512\n",
            "Esra Akdas: 7500 TL\n"
          ]
        }
      ],
      "source": [
        "PersonelA = {\"Adi\":\"Esra\",\"Soyadi\":\"Akdas\",\"TC\":\"3653652512\",\"Maas\":7500}\n",
        "PersonelB = {\"Adi\":\"Mucahit\",\"Soyadi\":\"Yilmaz\",\"TC\":\"2565958654\",\"Maas\":8500}\n",
        "\n",
        "def maas_sorgu(x):\n",
        "    if x==PersonelA['TC']:\n",
        "        return PersonelA['Adi']+' '+ PersonelA['Soyadi']+': '+ str(PersonelA['Maas'])+' TL'\n",
        "    elif x==PersonelB['TC']:\n",
        "        return PersonelB['Adi']+' '+ PersonelB['Soyadi']+': '+ str(PersonelB['Maas'])+' TL'\n",
        "    else:\n",
        "        print('Kayitli Kullanici Bulunamadi...')\n",
        "print(maas_sorgu(input('TC Giriniz: ')))"
      ]
    },
    {
      "cell_type": "markdown",
      "id": "94a54acf",
      "metadata": {
        "id": "94a54acf"
      },
      "source": [
        "### **40. Sozluk Uygulamasi - Maas Yatma Gunu Islemlerinin Fonksiyon Ile Yapilmasi**"
      ]
    },
    {
      "cell_type": "markdown",
      "id": "3ad4e5ab",
      "metadata": {
        "id": "3ad4e5ab"
      },
      "source": [
        "* TC Numarasinin ilk hanesi 2 ve 4 olanlar Pazartesi Gunu Odeme Alacak\n",
        "* TC Numarasinin ilk hanesi 6 ve 8 olanlar Sali Gunu Odeme Alacak"
      ]
    },
    {
      "cell_type": "code",
      "execution_count": null,
      "id": "6e3e4179",
      "metadata": {
        "id": "6e3e4179",
        "outputId": "52197f48-a6fe-43a8-86e2-000cb9876710"
      },
      "outputs": [
        {
          "name": "stdout",
          "output_type": "stream",
          "text": [
            "Lutfen TC Giriniz: 2565958654\n",
            "Sayin Esra Akdas 10500 ₺ Pazartesi Gunu Yatacak.\n"
          ]
        }
      ],
      "source": [
        "PersonelA = {\"Adi\":\"Mucahit\",\"Soyadi\":\"Yilmaz\",\"TC\":\"6653652512\",\"Maas\":9500}\n",
        "PersonelB = {\"Adi\":\"Esra\",\"Soyadi\":\"Akdas\",\"TC\":\"2565958654\",\"Maas\":10500}\n",
        "\n",
        "def maas_gunu(x):\n",
        "    if x==PersonelA['TC']:\n",
        "        if (x[0]=='2' or x[0]=='4'):\n",
        "            return 'Sayin '+PersonelA['Adi']+' '+PersonelA['Soyadi']+' '+str(PersonelA['Maas'])+' ₺ Pazartesi Gunu Yatacak.'\n",
        "\n",
        "        elif (x[0]=='6' or x[0]=='8'):\n",
        "            return 'Sayin '+PersonelA['Adi']+' '+PersonelA['Soyadi']+' '+str(PersonelA['Maas'])+' ₺ Sali Gunu Yatacak.'\n",
        "        else:\n",
        "            return 'Yanlis Kimlik Numarasi'\n",
        "    elif x==PersonelB['TC']:\n",
        "        if (x[0]=='2' or x[0]=='4'):\n",
        "            return 'Sayin '+PersonelB['Adi']+' '+PersonelB['Soyadi']+' '+str(PersonelB['Maas'])+' ₺ Pazartesi Gunu Yatacak.'\n",
        "\n",
        "        elif (x[0]=='6' or x[0]=='8'):\n",
        "            return 'Sayin '+PersonelB['Adi']+' '+PersonelB['Soyadi']+' '+str(PersonelB['Maas'])+' ₺ Sali Gunu Yatacak.'\n",
        "        else:\n",
        "            return 'Yanlis Kimlik Numarasi'\n",
        "    else:\n",
        "        return 'Yanlis TC Girdiniz'\n",
        "\n",
        "print(maas_gunu(input('Lutfen TC Giriniz: ')))\n"
      ]
    },
    {
      "cell_type": "markdown",
      "id": "05f4a2bc",
      "metadata": {
        "id": "05f4a2bc"
      },
      "source": [
        "### **41. Sozluk ve Listelerin Birlikte Kullanimi Ornegi**"
      ]
    },
    {
      "cell_type": "markdown",
      "id": "76dfaca4",
      "metadata": {
        "id": "76dfaca4"
      },
      "source": [
        "3 personel icin ad,soyad ve TC bilgilerini iceren ayrı ayrı sozlukler olusturulacak.\n",
        "Girilen TC ait personelin Ad ve Soyadi yeni bir liste içine atayan bir program fonksiyon kullanilarak yapılacak."
      ]
    },
    {
      "cell_type": "code",
      "execution_count": null,
      "id": "6cd1d162",
      "metadata": {
        "id": "6cd1d162",
        "outputId": "ac70fdf9-d4d3-4547-ada5-d582a9644716"
      },
      "outputs": [
        {
          "name": "stdout",
          "output_type": "stream",
          "text": [
            "TC Giriniz: 45685265364\n"
          ]
        },
        {
          "data": {
            "text/plain": [
              "['Mucahit Yilmaz']"
            ]
          },
          "execution_count": 138,
          "metadata": {},
          "output_type": "execute_result"
        }
      ],
      "source": [
        "personal1={'Adi':'Esra','Soyadi':'Akdas','TC':'24658565268'}\n",
        "personal2={'Adi':'Mucahit','Soyadi':'Yilmaz','TC':'45685265364'}\n",
        "personal3={'Adi':'Vera','Soyadi':'Yilmaz','TC':'65845878654'}\n",
        "\n",
        "liste=[]\n",
        "def liste_ata(x):\n",
        "    if x==personal1['TC']:\n",
        "        return personal1['Adi']+' '+personal1['Soyadi']\n",
        "    elif x==personal2['TC']:\n",
        "        return personal2['Adi']+' '+personal2['Soyadi']\n",
        "    elif x==personal3['TC']:\n",
        "        return personal3['Adi']+' '+personal3['Soyadi']\n",
        "    else:\n",
        "        return 'Kayitli Kullanici Bulunamadı...'\n",
        "liste.append(liste_ata(input('TC Giriniz: ')))\n",
        "liste"
      ]
    },
    {
      "cell_type": "markdown",
      "id": "0f6b727f",
      "metadata": {
        "id": "0f6b727f"
      },
      "source": [
        "### **42. Liste Uygulamasi Ornegi**"
      ]
    },
    {
      "cell_type": "markdown",
      "id": "35981cbf",
      "metadata": {
        "id": "35981cbf"
      },
      "source": [
        "* 2 adet liste olusturunuz ve bu listelerden eleman sayisi az olan listenin tum elemanlarini eleman sayisi fazla olan listeye atayan programi yaziniz."
      ]
    },
    {
      "cell_type": "code",
      "execution_count": null,
      "id": "8e13bd9b",
      "metadata": {
        "id": "8e13bd9b",
        "outputId": "ebd8ac24-b3b6-48f8-a7ba-115cbc923b48"
      },
      "outputs": [
        {
          "name": "stdout",
          "output_type": "stream",
          "text": [
            "liste_2: [10, 36, 25, 3, 4, 8, 5, 6, 9, 7, 1]\n"
          ]
        }
      ],
      "source": [
        "liste_1=[5,6,9,7,1]\n",
        "liste_2=[10,36,25,3,4,8]\n",
        "\n",
        "if len(liste_1)>len(liste_2):\n",
        "    liste_1.extend(liste_2)\n",
        "    print('liste_1:',liste_1)\n",
        "elif len(liste_2)>len(liste_1):\n",
        "    liste_2.extend(liste_1)\n",
        "    print('liste_2:',liste_2)\n",
        "else:\n",
        "    print('Eleman Sayilari Birbirine Esittir..')"
      ]
    },
    {
      "cell_type": "code",
      "execution_count": null,
      "id": "1202b478",
      "metadata": {
        "id": "1202b478"
      },
      "outputs": [],
      "source": []
    }
  ],
  "metadata": {
    "kernelspec": {
      "display_name": "Python 3 (ipykernel)",
      "language": "python",
      "name": "python3"
    },
    "language_info": {
      "codemirror_mode": {
        "name": "ipython",
        "version": 3
      },
      "file_extension": ".py",
      "mimetype": "text/x-python",
      "name": "python",
      "nbconvert_exporter": "python",
      "pygments_lexer": "ipython3",
      "version": "3.9.8"
    },
    "colab": {
      "provenance": [],
      "toc_visible": true,
      "include_colab_link": true
    }
  },
  "nbformat": 4,
  "nbformat_minor": 5
}